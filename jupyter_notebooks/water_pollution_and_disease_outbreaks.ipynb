{
  "cells": [
    {
      "cell_type": "markdown",
      "metadata": {},
      "source": [
        "<img src=\"water_pollution3.jpg\"  style=\"width:100%; height:auto;\">\n",
        "\n"
      ]
    },
    {
      "cell_type": "markdown",
      "metadata": {},
      "source": [
        "# 🌍 Water Pollution & Disease Outbreaks: Can We Predict the Cost of Inaction?\n",
        "\n",
        "Water pollution is not just an environmental issue, it is a public health emergency.\n",
        "\n",
        "This data analysis project explores the relationship between water quality indicators and disease outbreaks across different regions and \n",
        "\n",
        "time periods. We will investigate whether patterns in water pollution can help predict and prevent public health crises, and estimate the \n",
        "\n",
        "economic impact of inaction.\n",
        "\n",
        "We will follow a data-driven approach involving:\n",
        "\n",
        "- Structured ETL (Extract, Transform, Load)\n",
        "\n",
        "- Statistical analysis and pattern detection\n",
        "\n",
        "- Visual exploration\n",
        "\n",
        "- Hypothesis testing\n",
        "\n",
        "- Economic impact and Health Burden Index estimation. Machine learning.\n"
      ]
    },
    {
      "cell_type": "markdown",
      "metadata": {},
      "source": [
        "## ETL Process\n",
        "\n",
        "Before go straight into the analysis, we want to ensure our dataset is clean and ready.\n",
        "\n",
        "The ETL steps will include:\n",
        "\n",
        "- **Extract**: Move the dataset from the Downloads folder to a project directory (`raw_data/`)\n",
        "\n",
        "- **Statistics Table**: Create a summary of the most relevant statistics.\n",
        "\n",
        "- **Transform**: Clean the data, check for outliers, and standardise formats\n",
        "\n",
        "- **Load**: Summarise and prepare the cleaned dataset for analysis\n"
      ]
    },
    {
      "cell_type": "markdown",
      "metadata": {},
      "source": [
        "## Data Extraction\n",
        "\n",
        "The raw dataset was initially stored in the local `Downloads` folder. As part of the extraction step, the file was programmatically moved \n",
        "\n",
        "into a dedicated `raw_data` directory within the project structure. This ensures better file organisation, version control, and \n",
        "\n",
        "reproducibility for the data pipeline.\n"
      ]
    },
    {
      "cell_type": "code",
      "execution_count": 28,
      "metadata": {},
      "outputs": [
        {
          "name": "stdout",
          "output_type": "stream",
          "text": [
            "❌ Source file not found.\n"
          ]
        }
      ],
      "source": [
        "import os\n",
        "import shutil\n",
        "%matplotlib inline\n",
        "import matplotlib.pyplot as plt\n",
        "\n",
        "#Step 1 Define paths\n",
        "downloads_path = os.path.expanduser(\"~/Downloads\")\n",
        "source_file = os.path.join(downloads_path, \"water_pollution_disease.csv\")\n",
        "destination_folder = \"raw_data\"\n",
        "destination_file = os.path.join(destination_folder, \"water_pollution_disease.csv\")\n",
        "\n",
        "# Step 2 Create destination folder if it doesn't exist\n",
        "os.makedirs(destination_folder, exist_ok=True)\n",
        "\n",
        "#Step 3 Move the file\n",
        "if os.path.exists(source_file):\n",
        "    shutil.move(source_file, destination_file)\n",
        "    print(f\"✅ File moved to: {destination_file}\")\n",
        "else:\n",
        "    print(\"❌ Source file not found.\")\n"
      ]
    },
    {
      "cell_type": "markdown",
      "metadata": {},
      "source": [
        "## Table of Statisticis. Why Is the Summary Statistics Table Important?\n",
        "\n",
        "Before diving into visualisation or modelling, it is critical to understand the **basic structure and distribution** of the data. The \n",
        "\n",
        "summary statistics table helps us:\n",
        "\n",
        "####  Spot Trends and Ranges\n",
        "\n",
        "- Measures like **mean**, **median**, **min**, and **max** show the typical values and range for each variable, helping us understand \n",
        "\n",
        "scale and variation.\n",
        "\n",
        "####  Detect Skewed Data\n",
        "\n",
        "- **Skewness** tells us whether the distribution is symmetrical or lopsided. For example, disease rates or contaminant levels may be \n",
        "\n",
        "heavily skewed in certain regions.\n",
        "\n",
        "#### Identify Outliers and Heavy Tails\n",
        "\n",
        "- **Kurtosis** shows if a variable has more extreme values than a normal distribution, which is crucial when working with public health \n",
        "\n",
        "or environmental data where outliers might signal crises.\n",
        "\n",
        "#### Validate Assumptions\n",
        "\n",
        "- Summary statistics can confirm if the data matches expectations (e.g. pH levels within safe biological limits, reasonable GDP values).\n",
        "\n",
        "Together, these metrics guide decisions on:\n",
        "\n",
        "- Which features may need transformation\n",
        "\n",
        "- Which variables could drive meaningful insights\n",
        "\n",
        "- Whether data normalisation or outlier handling is required\n",
        "\n",
        "In short, the statistical summary builds a **foundation of trust** in the dataset and helps define the right next steps.\n"
      ]
    },
    {
      "cell_type": "code",
      "execution_count": 3,
      "metadata": {},
      "outputs": [
        {
          "data": {
            "text/html": [
              "<div>\n",
              "<style scoped>\n",
              "    .dataframe tbody tr th:only-of-type {\n",
              "        vertical-align: middle;\n",
              "    }\n",
              "\n",
              "    .dataframe tbody tr th {\n",
              "        vertical-align: top;\n",
              "    }\n",
              "\n",
              "    .dataframe thead th {\n",
              "        text-align: right;\n",
              "    }\n",
              "</style>\n",
              "<table border=\"1\" class=\"dataframe\">\n",
              "  <thead>\n",
              "    <tr style=\"text-align: right;\">\n",
              "      <th></th>\n",
              "      <th>Mean</th>\n",
              "      <th>Median</th>\n",
              "      <th>Std Dev</th>\n",
              "      <th>Min</th>\n",
              "      <th>Max</th>\n",
              "      <th>Skewness</th>\n",
              "      <th>Kurtosis</th>\n",
              "    </tr>\n",
              "  </thead>\n",
              "  <tbody>\n",
              "    <tr>\n",
              "      <th>Year</th>\n",
              "      <td>2012.01</td>\n",
              "      <td>2012.00</td>\n",
              "      <td>7.23</td>\n",
              "      <td>2000.00</td>\n",
              "      <td>2024.00</td>\n",
              "      <td>0.00</td>\n",
              "      <td>-1.21</td>\n",
              "    </tr>\n",
              "    <tr>\n",
              "      <th>Contaminant Level (ppm)</th>\n",
              "      <td>4.95</td>\n",
              "      <td>4.95</td>\n",
              "      <td>2.86</td>\n",
              "      <td>0.00</td>\n",
              "      <td>10.00</td>\n",
              "      <td>0.00</td>\n",
              "      <td>-1.16</td>\n",
              "    </tr>\n",
              "    <tr>\n",
              "      <th>pH Level</th>\n",
              "      <td>7.26</td>\n",
              "      <td>7.28</td>\n",
              "      <td>0.72</td>\n",
              "      <td>6.00</td>\n",
              "      <td>8.50</td>\n",
              "      <td>-0.02</td>\n",
              "      <td>-1.21</td>\n",
              "    </tr>\n",
              "    <tr>\n",
              "      <th>Turbidity (NTU)</th>\n",
              "      <td>2.48</td>\n",
              "      <td>2.46</td>\n",
              "      <td>1.42</td>\n",
              "      <td>0.00</td>\n",
              "      <td>4.99</td>\n",
              "      <td>0.05</td>\n",
              "      <td>-1.16</td>\n",
              "    </tr>\n",
              "    <tr>\n",
              "      <th>Dissolved Oxygen (mg/L)</th>\n",
              "      <td>6.49</td>\n",
              "      <td>6.49</td>\n",
              "      <td>2.03</td>\n",
              "      <td>3.00</td>\n",
              "      <td>10.00</td>\n",
              "      <td>0.02</td>\n",
              "      <td>-1.23</td>\n",
              "    </tr>\n",
              "    <tr>\n",
              "      <th>Nitrate Level (mg/L)</th>\n",
              "      <td>25.08</td>\n",
              "      <td>24.79</td>\n",
              "      <td>14.51</td>\n",
              "      <td>0.05</td>\n",
              "      <td>49.99</td>\n",
              "      <td>0.02</td>\n",
              "      <td>-1.21</td>\n",
              "    </tr>\n",
              "    <tr>\n",
              "      <th>Lead Concentration (µg/L)</th>\n",
              "      <td>10.05</td>\n",
              "      <td>10.07</td>\n",
              "      <td>5.80</td>\n",
              "      <td>0.00</td>\n",
              "      <td>20.00</td>\n",
              "      <td>-0.02</td>\n",
              "      <td>-1.22</td>\n",
              "    </tr>\n",
              "    <tr>\n",
              "      <th>Bacteria Count (CFU/mL)</th>\n",
              "      <td>2488.48</td>\n",
              "      <td>2469.00</td>\n",
              "      <td>1431.42</td>\n",
              "      <td>0.00</td>\n",
              "      <td>4998.00</td>\n",
              "      <td>0.01</td>\n",
              "      <td>-1.19</td>\n",
              "    </tr>\n",
              "    <tr>\n",
              "      <th>Access to Clean Water (% of Population)</th>\n",
              "      <td>64.61</td>\n",
              "      <td>64.78</td>\n",
              "      <td>20.31</td>\n",
              "      <td>30.01</td>\n",
              "      <td>99.99</td>\n",
              "      <td>0.02</td>\n",
              "      <td>-1.22</td>\n",
              "    </tr>\n",
              "    <tr>\n",
              "      <th>Diarrheal Cases per 100,000 people</th>\n",
              "      <td>249.78</td>\n",
              "      <td>248.00</td>\n",
              "      <td>144.11</td>\n",
              "      <td>0.00</td>\n",
              "      <td>499.00</td>\n",
              "      <td>0.01</td>\n",
              "      <td>-1.19</td>\n",
              "    </tr>\n",
              "    <tr>\n",
              "      <th>Cholera Cases per 100,000 people</th>\n",
              "      <td>24.25</td>\n",
              "      <td>24.00</td>\n",
              "      <td>14.33</td>\n",
              "      <td>0.00</td>\n",
              "      <td>49.00</td>\n",
              "      <td>-0.01</td>\n",
              "      <td>-1.18</td>\n",
              "    </tr>\n",
              "    <tr>\n",
              "      <th>Typhoid Cases per 100,000 people</th>\n",
              "      <td>49.27</td>\n",
              "      <td>49.00</td>\n",
              "      <td>28.98</td>\n",
              "      <td>0.00</td>\n",
              "      <td>99.00</td>\n",
              "      <td>0.02</td>\n",
              "      <td>-1.22</td>\n",
              "    </tr>\n",
              "    <tr>\n",
              "      <th>Infant Mortality Rate (per 1,000 live births)</th>\n",
              "      <td>50.81</td>\n",
              "      <td>50.23</td>\n",
              "      <td>28.47</td>\n",
              "      <td>2.06</td>\n",
              "      <td>99.99</td>\n",
              "      <td>0.02</td>\n",
              "      <td>-1.21</td>\n",
              "    </tr>\n",
              "    <tr>\n",
              "      <th>GDP per Capita (USD)</th>\n",
              "      <td>50036.20</td>\n",
              "      <td>49621.50</td>\n",
              "      <td>28598.75</td>\n",
              "      <td>521.00</td>\n",
              "      <td>99948.00</td>\n",
              "      <td>0.03</td>\n",
              "      <td>-1.21</td>\n",
              "    </tr>\n",
              "    <tr>\n",
              "      <th>Healthcare Access Index (0-100)</th>\n",
              "      <td>50.03</td>\n",
              "      <td>50.39</td>\n",
              "      <td>28.90</td>\n",
              "      <td>0.19</td>\n",
              "      <td>99.98</td>\n",
              "      <td>-0.01</td>\n",
              "      <td>-1.20</td>\n",
              "    </tr>\n",
              "    <tr>\n",
              "      <th>Urbanization Rate (%)</th>\n",
              "      <td>50.06</td>\n",
              "      <td>49.80</td>\n",
              "      <td>22.78</td>\n",
              "      <td>10.03</td>\n",
              "      <td>89.98</td>\n",
              "      <td>0.00</td>\n",
              "      <td>-1.18</td>\n",
              "    </tr>\n",
              "    <tr>\n",
              "      <th>Sanitation Coverage (% of Population)</th>\n",
              "      <td>60.37</td>\n",
              "      <td>60.58</td>\n",
              "      <td>23.16</td>\n",
              "      <td>20.01</td>\n",
              "      <td>99.99</td>\n",
              "      <td>-0.03</td>\n",
              "      <td>-1.20</td>\n",
              "    </tr>\n",
              "    <tr>\n",
              "      <th>Rainfall (mm per year)</th>\n",
              "      <td>1591.85</td>\n",
              "      <td>1572.00</td>\n",
              "      <td>817.50</td>\n",
              "      <td>200.00</td>\n",
              "      <td>2999.00</td>\n",
              "      <td>0.01</td>\n",
              "      <td>-1.24</td>\n",
              "    </tr>\n",
              "    <tr>\n",
              "      <th>Temperature (°C)</th>\n",
              "      <td>20.13</td>\n",
              "      <td>20.18</td>\n",
              "      <td>11.69</td>\n",
              "      <td>0.06</td>\n",
              "      <td>39.99</td>\n",
              "      <td>-0.01</td>\n",
              "      <td>-1.23</td>\n",
              "    </tr>\n",
              "    <tr>\n",
              "      <th>Population Density (people per km²)</th>\n",
              "      <td>505.39</td>\n",
              "      <td>513.00</td>\n",
              "      <td>283.28</td>\n",
              "      <td>10.00</td>\n",
              "      <td>999.00</td>\n",
              "      <td>-0.01</td>\n",
              "      <td>-1.19</td>\n",
              "    </tr>\n",
              "  </tbody>\n",
              "</table>\n",
              "</div>"
            ],
            "text/plain": [
              "                                                   Mean    Median   Std Dev  \\\n",
              "Year                                            2012.01   2012.00      7.23   \n",
              "Contaminant Level (ppm)                            4.95      4.95      2.86   \n",
              "pH Level                                           7.26      7.28      0.72   \n",
              "Turbidity (NTU)                                    2.48      2.46      1.42   \n",
              "Dissolved Oxygen (mg/L)                            6.49      6.49      2.03   \n",
              "Nitrate Level (mg/L)                              25.08     24.79     14.51   \n",
              "Lead Concentration (µg/L)                         10.05     10.07      5.80   \n",
              "Bacteria Count (CFU/mL)                         2488.48   2469.00   1431.42   \n",
              "Access to Clean Water (% of Population)           64.61     64.78     20.31   \n",
              "Diarrheal Cases per 100,000 people               249.78    248.00    144.11   \n",
              "Cholera Cases per 100,000 people                  24.25     24.00     14.33   \n",
              "Typhoid Cases per 100,000 people                  49.27     49.00     28.98   \n",
              "Infant Mortality Rate (per 1,000 live births)     50.81     50.23     28.47   \n",
              "GDP per Capita (USD)                           50036.20  49621.50  28598.75   \n",
              "Healthcare Access Index (0-100)                   50.03     50.39     28.90   \n",
              "Urbanization Rate (%)                             50.06     49.80     22.78   \n",
              "Sanitation Coverage (% of Population)             60.37     60.58     23.16   \n",
              "Rainfall (mm per year)                          1591.85   1572.00    817.50   \n",
              "Temperature (°C)                                  20.13     20.18     11.69   \n",
              "Population Density (people per km²)              505.39    513.00    283.28   \n",
              "\n",
              "                                                   Min       Max  Skewness  \\\n",
              "Year                                           2000.00   2024.00      0.00   \n",
              "Contaminant Level (ppm)                           0.00     10.00      0.00   \n",
              "pH Level                                          6.00      8.50     -0.02   \n",
              "Turbidity (NTU)                                   0.00      4.99      0.05   \n",
              "Dissolved Oxygen (mg/L)                           3.00     10.00      0.02   \n",
              "Nitrate Level (mg/L)                              0.05     49.99      0.02   \n",
              "Lead Concentration (µg/L)                         0.00     20.00     -0.02   \n",
              "Bacteria Count (CFU/mL)                           0.00   4998.00      0.01   \n",
              "Access to Clean Water (% of Population)          30.01     99.99      0.02   \n",
              "Diarrheal Cases per 100,000 people                0.00    499.00      0.01   \n",
              "Cholera Cases per 100,000 people                  0.00     49.00     -0.01   \n",
              "Typhoid Cases per 100,000 people                  0.00     99.00      0.02   \n",
              "Infant Mortality Rate (per 1,000 live births)     2.06     99.99      0.02   \n",
              "GDP per Capita (USD)                            521.00  99948.00      0.03   \n",
              "Healthcare Access Index (0-100)                   0.19     99.98     -0.01   \n",
              "Urbanization Rate (%)                            10.03     89.98      0.00   \n",
              "Sanitation Coverage (% of Population)            20.01     99.99     -0.03   \n",
              "Rainfall (mm per year)                          200.00   2999.00      0.01   \n",
              "Temperature (°C)                                  0.06     39.99     -0.01   \n",
              "Population Density (people per km²)              10.00    999.00     -0.01   \n",
              "\n",
              "                                               Kurtosis  \n",
              "Year                                              -1.21  \n",
              "Contaminant Level (ppm)                           -1.16  \n",
              "pH Level                                          -1.21  \n",
              "Turbidity (NTU)                                   -1.16  \n",
              "Dissolved Oxygen (mg/L)                           -1.23  \n",
              "Nitrate Level (mg/L)                              -1.21  \n",
              "Lead Concentration (µg/L)                         -1.22  \n",
              "Bacteria Count (CFU/mL)                           -1.19  \n",
              "Access to Clean Water (% of Population)           -1.22  \n",
              "Diarrheal Cases per 100,000 people                -1.19  \n",
              "Cholera Cases per 100,000 people                  -1.18  \n",
              "Typhoid Cases per 100,000 people                  -1.22  \n",
              "Infant Mortality Rate (per 1,000 live births)     -1.21  \n",
              "GDP per Capita (USD)                              -1.21  \n",
              "Healthcare Access Index (0-100)                   -1.20  \n",
              "Urbanization Rate (%)                             -1.18  \n",
              "Sanitation Coverage (% of Population)             -1.20  \n",
              "Rainfall (mm per year)                            -1.24  \n",
              "Temperature (°C)                                  -1.23  \n",
              "Population Density (people per km²)               -1.19  "
            ]
          },
          "execution_count": 3,
          "metadata": {},
          "output_type": "execute_result"
        }
      ],
      "source": [
        "import pandas as pd\n",
        "from scipy.stats import skew, kurtosis\n",
        "\n",
        "\n",
        "#Step 4 Load data\n",
        "df = pd.read_csv(os.path.join(destination_folder, \"water_pollution_disease.csv\"))\n",
        "\n",
        "#Step 5 Select numeric columns\n",
        "num_df = df.select_dtypes(include='number')\n",
        "\n",
        "#Step 6 Summary table\n",
        "summary_stats = pd.DataFrame({\n",
        "    'Mean': num_df.mean(),\n",
        "    'Median': num_df.median(),\n",
        "    'Std Dev': num_df.std(),\n",
        "    'Min': num_df.min(),\n",
        "    'Max': num_df.max(),\n",
        "    'Skewness': num_df.apply(skew),\n",
        "    'Kurtosis': num_df.apply(kurtosis)\n",
        "})\n",
        "\n",
        "summary_stats.round(2)\n"
      ]
    },
    {
      "cell_type": "markdown",
      "metadata": {},
      "source": [
        "## Initial Data Insights\n",
        "\n",
        "This statistical summary provides a foundational understanding of the dataset before deeper analysis. Here's what stands out:\n",
        "\n",
        "####  Central Tendencies & Spread\n",
        "\n",
        "- Most variables show **well-centred mean and median values**, suggesting balanced distributions.\n",
        "\n",
        "- Standard deviations vary widely. For instance, GDP per Capita and Bacteria Count have very high variance, indicating large disparities \n",
        "\n",
        "between regions.\n",
        "\n",
        "####  pH Level Check\n",
        "\n",
        "- The pH levels range from **6.00 to 8.50**, which is **within or close to safe biological thresholds** (6.5–8.5 for drinkable water), \n",
        "\n",
        "with a mean of 7.26. This will be important in health correlation checks.\n",
        "\n",
        "####  Skewness & Kurtosis\n",
        "\n",
        "- All skewness values are very close to 0 → **no major skew detected**.\n",
        "\n",
        "- All kurtosis values are negative and near -1.2, indicating **light tails** (less extreme outliers than a normal distribution).\n",
        "\n",
        "#### Red Flags\n",
        "\n",
        "- Some variables like `Diarrheal Cases`, `Cholera Cases`, and `Bacteria Count` have **minimums at 0**, which might suggest \n",
        "\n",
        "under-reporting or areas with no observed cases. Maybe we will need to keep this in mind during hypothesis testing.\n"
      ]
    },
    {
      "cell_type": "markdown",
      "metadata": {},
      "source": [
        "##  Data Cleaning & Transformation\n",
        "\n",
        "To ensure precise and trustworthy analysis, the dataset will be cleaned and validated. This includes trimming whitespace from column \n",
        "\n",
        "names, removing duplicate rows, and verifying that all values fall within expected ranges, such as pH levels, percentage fields, and \n",
        "\n",
        "non-negative numeric values. Although the dataset was already well-structured with no missing values, these checks will help confirm its \n",
        "\n",
        "integrity and detect any potential anomalies before proceeding with exploration and hypothesis testing.\n"
      ]
    },
    {
      "cell_type": "code",
      "execution_count": 4,
      "metadata": {},
      "outputs": [
        {
          "name": "stdout",
          "output_type": "stream",
          "text": [
            "🔍 Missing values:\n",
            " Water Treatment Method    747\n",
            "dtype: int64\n",
            " Warning: pH Level out of biological range (6.5–8.5).\n",
            " Dataset cleaned and ready for analysis.\n"
          ]
        }
      ],
      "source": [
        "# Step 6. Check for missing values\n",
        "missing = df.isnull().sum()\n",
        "print(\"🔍 Missing values:\\n\", missing[missing > 0])\n",
        "\n",
        "# Step 7. Strip whitespace from column names\n",
        "df.columns = df.columns.str.strip()\n",
        "\n",
        "# Step 8. Check for duplicates and drop if any\n",
        "df.drop_duplicates(inplace=True)\n",
        "\n",
        "# Step 9. Validate and fix data ranges\n",
        "\n",
        "# Step 10. Negative values check\n",
        "num_neg = df.select_dtypes(include='number') < 0\n",
        "if num_neg.any().any():\n",
        "    print(\" Warning: Negative values detected.\")\n",
        "\n",
        "# Step 11. Check pH levels out of range\n",
        "out_of_range_pH = df[(df['pH Level'] < 6.5) | (df['pH Level'] > 8.5)]\n",
        "if not out_of_range_pH.empty:\n",
        "    print(\" Warning: pH Level out of biological range (6.5–8.5).\")\n",
        "\n",
        "# Step 12. Ensure percentage-based columns are between 0–100\n",
        "percent_cols = [col for col in df.columns if '%' in col]\n",
        "for col in percent_cols:\n",
        "    if not df[col].between(0, 100).all():\n",
        "        print(f\" Warning: '{col}' has values outside 0–100%.\")\n",
        "\n",
        "# Step 13. Convert year to datetime if needed (for time series)\n",
        "if 'Year' in df.columns:\n",
        "    df['Year'] = pd.to_datetime(df['Year'], format='%Y', errors='coerce')\n",
        "\n",
        "print(\" Dataset cleaned and ready for analysis.\")\n"
      ]
    },
    {
      "cell_type": "markdown",
      "metadata": {},
      "source": [
        "### Cleaning Observations\n",
        "\n",
        "- **Missing Values**: \n",
        "\n",
        "  One column, `Water Treatment Method`, had **747 missing entries**. Since this variable may be useful for later classification or \n",
        "  \n",
        "  filtering, we will retain the column and handle the missing values during the modelling process.\n",
        "\n",
        "- **pH Level Validation**: \n",
        "\n",
        "  Some values in the `pH Level` column fell **outside the safe biological range (6.5–8.5)**. These may indicate sampling errors or highly \n",
        "  \n",
        "  contaminated sources and may be flagged or excluded during analysis depending on their influence.\n",
        "\n",
        "✅ With duplicates removed, column names standardised, and ranges validated, the dataset is now ready for visual exploration and \n",
        "\n",
        "hypothesis testing.\n"
      ]
    },
    {
      "cell_type": "markdown",
      "metadata": {},
      "source": [
        "## Save, Move & Load\n",
        "\n",
        "After cleaning, the dataset we will save as a new file and moved into the `input_data` folder. This separation ensures a clear \n",
        "\n",
        "distinction between raw and processed data, improving project structure and reproducibility. The cleaned dataset is then reloaded from \n",
        "\n",
        "this directory to begin the analysis phase with a reliable, validated dataset.\n"
      ]
    },
    {
      "cell_type": "code",
      "execution_count": 8,
      "metadata": {},
      "outputs": [
        {
          "name": "stdout",
          "output_type": "stream",
          "text": [
            "✅ Cleaned dataset saved to: input_data\\cleaned_water_pollution_disease.csv\n"
          ]
        }
      ],
      "source": [
        "# Step 14. Create the input_data folder if it doesn't exist\n",
        "input_data_folder = \"input_data\"\n",
        "os.makedirs(input_data_folder, exist_ok=True)\n",
        "\n",
        "# Step 15. Define cleaned file path\n",
        "cleaned_file_path = os.path.join(input_data_folder, \"cleaned_water_pollution_disease.csv\")\n",
        "\n",
        "# Step 16. Save the cleaned dataset\n",
        "df.to_csv(cleaned_file_path, index=False)\n",
        "\n",
        "print(f\"✅ Cleaned dataset saved to: {cleaned_file_path}\")\n"
      ]
    },
    {
      "cell_type": "markdown",
      "metadata": {},
      "source": [
        "### File Integrity Check\n",
        "\n",
        "To ensure the cleaned dataset is not just a renamed copy of the raw file, we compared the **file hashes** using an MD5 checksum. This \n",
        "\n",
        "method confirms that the cleaned file has been genuinely modified during the cleaning process, such as removing duplicates, fixing column \n",
        "\n",
        "names, or handling invalid values, before being saved to the `input_data` folder.\n"
      ]
    },
    {
      "cell_type": "code",
      "execution_count": null,
      "metadata": {},
      "outputs": [
        {
          "name": "stdout",
          "output_type": "stream",
          "text": [
            "Same file? False\n"
          ]
        }
      ],
      "source": [
        "import hashlib\n",
        "# Step 17. Function to compute file hash\n",
        "def file_hash(path):\n",
        "    with open(path, \"rb\") as f:\n",
        "        return hashlib.md5(f.read()).hexdigest()\n",
        "#Step 18. Check if the cleaned file is the same as the raw file\n",
        "hash_raw = file_hash(\"raw_data/water_pollution_disease.csv\")\n",
        "hash_cleaned = file_hash(\"input_data/cleaned_water_pollution_disease.csv\")\n",
        "# Step 19. Print the result\n",
        "print(\"Same file?\" , hash_raw == hash_cleaned)\n"
      ]
    },
    {
      "cell_type": "markdown",
      "metadata": {},
      "source": [
        "## Visual Exploration\n",
        "\n",
        "To detect patterns, trends, and anomalies in the data, we will start with a set of visualisations using three different libraries:\n",
        "\n",
        "- **Matplotlib** for a clear time trend overview.\n",
        "\n",
        "- **Seaborn** for distribution and comparison.\n",
        "\n",
        "- **Plotly** for interactive regional insight.\n",
        "\n",
        "Each tool offers different strengths:  \n",
        "\n",
        "- Matplotlib provides simple custom control over plot elements.  \n",
        "\n",
        "- Seaborn excels at clean, statistical visualisations. \n",
        "\n",
        "- Plotly enables interactive, dynamic exploration, ideal for stakeholder presentation.  \n",
        "\n",
        "Our goal is to visually answer:  \n",
        "\n",
        "1. Are disease cases rising over time?  \n",
        "\n",
        "2. How do pollution levels differ across water source types?  \n",
        "\n",
        "3. Which countries have the highest combined health and pollution burden?\n",
        "\n",
        "These plots will help shape our hypotheses and direct further analysis.\n"
      ]
    },
    {
      "cell_type": "markdown",
      "metadata": {},
      "source": [
        "1. **Matplotlib** – Disease Trends: Average Disease Cases Over Time.\n",
        "\n",
        "   Why? Matplotlib is perfect for simple line plots to show trends over time."
      ]
    },
    {
      "cell_type": "code",
      "execution_count": null,
      "metadata": {},
      "outputs": [
        {
          "data": {
            "image/png": "[encoded data removed]",
            "text/plain": [
              "<Figure size 1000x600 with 1 Axes>"
            ]
          },
          "metadata": {},
          "output_type": "display_data"
        }
      ],
      "source": [
        "import matplotlib.pyplot as plt\n",
        "\n",
        "#Step 20. Group and average disease cases by year\n",
        "yearly_cases = df.groupby(df['Year'].dt.year)[\n",
        "    ['Diarrheal Cases per 100,000 people',\n",
        "     'Cholera Cases per 100,000 people',\n",
        "     'Typhoid Cases per 100,000 people']\n",
        "].mean()\n",
        "\n",
        "#Step 21. Create the Plot\n",
        "plt.figure(figsize=(10,6))\n",
        "for col in yearly_cases.columns:\n",
        "    plt.plot(yearly_cases.index, yearly_cases[col], label=col)\n",
        "\n",
        "plt.title(\"Average Disease Cases Over Time\")\n",
        "plt.xlabel(\"Year\")\n",
        "plt.ylabel(\"Cases per 100,000 people\")\n",
        "plt.legend()\n",
        "plt.grid(True)\n",
        "plt.tight_layout()\n",
        "plt.show()\n"
      ]
    },
    {
      "cell_type": "markdown",
      "metadata": {},
      "source": [
        "This line chart shows the trend of three major water-related disease cases (diarrhoea, cholera, and typhoid) per 100,000 people over the \n",
        "\n",
        "years 2000–2024."
      ]
    },
    {
      "cell_type": "markdown",
      "metadata": {},
      "source": [
        "We have used Matplotlib to visualise the average number of diarrheal, cholera, and typhoid cases per year. This plot will help us \n",
        "\n",
        "identify whether these diseases are increasing or decreasing over time. Diarrhoea appears to be consistently high, while cholera and \n",
        "\n",
        "typhoid remain relatively stable at lower levels.\n",
        "\n",
        "\n",
        "Such trends can inform early warning systems and preventive interventions, especially in areas with rising incidence."
      ]
    },
    {
      "cell_type": "markdown",
      "metadata": {},
      "source": [
        "  2. **Seaborn** –Contaminant Levels by Water Source Type.\n",
        "  \n",
        "  Why? Seaborn’s boxplot is ideal to compare distributions across categories."
      ]
    },
    {
      "cell_type": "code",
      "execution_count": null,
      "metadata": {},
      "outputs": [
        {
          "name": "stderr",
          "output_type": "stream",
          "text": [
            "C:\\Users\\Sheila\\AppData\\Local\\Temp\\ipykernel_10112\\1459911554.py:13: FutureWarning: \n",
            "\n",
            "Passing `palette` without assigning `hue` is deprecated and will be removed in v0.14.0. Assign the `x` variable to `hue` and set `legend=False` for the same effect.\n",
            "\n",
            "  sns.boxplot(\n"
          ]
        },
        {
          "data": {
            "image/png": "[encoded data removed]",
            "text/plain": [
              "<Figure size 1000x600 with 1 Axes>"
            ]
          },
          "metadata": {},
          "output_type": "display_data"
        }
      ],
      "source": [
        "import seaborn as sns\n",
        "import matplotlib.pyplot as plt\n",
        "\n",
        "# Step 22. Define a custom color palette\n",
        "custom_palette = {\n",
        "    source: colour for source, colour in zip(\n",
        "        df['Water Source Type'].unique(),\n",
        "        sns.color_palette(\"Set2\", len(df['Water Source Type'].unique()))\n",
        "    )\n",
        "}\n",
        "#Step 23. Create the boxplot\n",
        "plt.figure(figsize=(10, 6))\n",
        "sns.boxplot(\n",
        "    x='Water Source Type',\n",
        "    y='Contaminant Level (ppm)',\n",
        "    data=df,\n",
        "    palette=custom_palette  # apply the custom palette\n",
        ")\n",
        "#Step 24. Customize the plot\n",
        "plt.title(\"Contaminant Levels by Water Source Type\")\n",
        "plt.xlabel(\"Water Source\")\n",
        "plt.ylabel(\"Contaminant Level (ppm)\")\n",
        "plt.xticks(rotation=45)\n",
        "plt.tight_layout()\n",
        "plt.show()\n"
      ]
    },
    {
      "cell_type": "markdown",
      "metadata": {},
      "source": [
        "This type of chart is ideal for visualising the distribution, spread, and potential outliers in contaminant levels (measured in ppm) for \n",
        "\n",
        "each water source (e.g., lake, well, river). It also will help to explore the variation in pollutant concentration across different water \n",
        "\n",
        "sources.\n",
        "\n",
        "Each box is colour-coded for improved readability, enabling quick visual comparison across categories. The boxplot highlights:\n",
        "\n",
        "    Median levels (central line),\n",
        "\n",
        "    Interquartile range (box span),\n",
        "\n",
        "    Minimum and maximum values (whiskers),\n",
        "\n",
        "    And any outliers(extreme values).\n",
        "\n",
        "This will allow us to evaluate which sources tend to have higher or more variable contamination, supporting targeted interventions.\n",
        "\n"
      ]
    },
    {
      "cell_type": "markdown",
      "metadata": {},
      "source": [
        "3. **Plotly** – Pollution & Health by Country (Choropleth)\n",
        "\n",
        "Why? Plotly is ideal for building interactive maps that show geographic patterns."
      ]
    },
    {
      "cell_type": "code",
      "execution_count": 9,
      "metadata": {},
      "outputs": [
        {
          "data": {
            "application/vnd.plotly.v1+json": {
              "config": {
                "plotlyServerURL": "https://plot.ly"
              },
              "data": [
                {
                  "coloraxis": "coloraxis",
                  "customdata": [
                    [
                      5.1784879725085915
                    ],
                    [
                      4.681374570446735
                    ],
                    [
                      4.966045016077171
                    ],
                    [
                      4.977918088737201
                    ],
                    [
                      5.141965517241379
                    ],
                    [
                      4.649210526315789
                    ],
                    [
                      5.169131944444445
                    ],
                    [
                      5.13815873015873
                    ],
                    [
                      4.653825503355704
                    ],
                    [
                      4.9917868338558
                    ]
                  ],
                  "geo": "geo",
                  "hovertemplate": "<b>%{hovertext}</b><br><br>Country=%{location}<br>Contaminant Level (ppm)=%{customdata[0]}<br>Health Burden=%{z}<extra></extra>",
                  "hovertext": [
                    "Bangladesh",
                    "Brazil",
                    "China",
                    "Ethiopia",
                    "India",
                    "Indonesia",
                    "Mexico",
                    "Nigeria",
                    "Pakistan",
                    "USA"
                  ],
                  "locationmode": "country names",
                  "locations": [
                    "Bangladesh",
                    "Brazil",
                    "China",
                    "Ethiopia",
                    "India",
                    "Indonesia",
                    "Mexico",
                    "Nigeria",
                    "Pakistan",
                    "USA"
                  ],
                  "name": "",
                  "type": "choropleth",
                  "z": [
                    136.28178694158075,
                    141.95017182130584,
                    133.1945337620579,
                    136.8122866894198,
                    139.5810344827586,
                    136.0690789473684,
                    141.90798611111111,
                    135.57301587301586,
                    137.3523489932886,
                    132.34169278996865
                  ]
                }
              ],
              "layout": {
                "coloraxis": {
                  "colorbar": {
                    "title": {
                      "text": "Health Burden"
                    }
                  },
                  "colorscale": [
                    [
                      0,
                      "rgb(255,245,240)"
                    ],
                    [
                      0.125,
                      "rgb(254,224,210)"
                    ],
                    [
                      0.25,
                      "rgb(252,187,161)"
                    ],
                    [
                      0.375,
                      "rgb(252,146,114)"
                    ],
                    [
                      0.5,
                      "rgb(251,106,74)"
                    ],
                    [
                      0.625,
                      "rgb(239,59,44)"
                    ],
                    [
                      0.75,
                      "rgb(203,24,29)"
                    ],
                    [
                      0.875,
                      "rgb(165,15,21)"
                    ],
                    [
                      1,
                      "rgb(103,0,13)"
                    ]
                  ]
                },
                "geo": {
                  "center": {},
                  "domain": {
                    "x": [
                      0,
                      1
                    ],
                    "y": [
                      0,
                      1
                    ]
                  }
                },
                "legend": {
                  "tracegroupgap": 0
                },
                "template": {
                  "data": {
                    "bar": [
                      {
                        "error_x": {
                          "color": "#2a3f5f"
                        },
                        "error_y": {
                          "color": "#2a3f5f"
                        },
                        "marker": {
                          "line": {
                            "color": "#E5ECF6",
                            "width": 0.5
                          },
                          "pattern": {
                            "fillmode": "overlay",
                            "size": 10,
                            "solidity": 0.2
                          }
                        },
                        "type": "bar"
                      }
                    ],
                    "barpolar": [
                      {
                        "marker": {
                          "line": {
                            "color": "#E5ECF6",
                            "width": 0.5
                          },
                          "pattern": {
                            "fillmode": "overlay",
                            "size": 10,
                            "solidity": 0.2
                          }
                        },
                        "type": "barpolar"
                      }
                    ],
                    "carpet": [
                      {
                        "aaxis": {
                          "endlinecolor": "#2a3f5f",
                          "gridcolor": "white",
                          "linecolor": "white",
                          "minorgridcolor": "white",
                          "startlinecolor": "#2a3f5f"
                        },
                        "baxis": {
                          "endlinecolor": "#2a3f5f",
                          "gridcolor": "white",
                          "linecolor": "white",
                          "minorgridcolor": "white",
                          "startlinecolor": "#2a3f5f"
                        },
                        "type": "carpet"
                      }
                    ],
                    "choropleth": [
                      {
                        "colorbar": {
                          "outlinewidth": 0,
                          "ticks": ""
                        },
                        "type": "choropleth"
                      }
                    ],
                    "contour": [
                      {
                        "colorbar": {
                          "outlinewidth": 0,
                          "ticks": ""
                        },
                        "colorscale": [
                          [
                            0,
                            "#0d0887"
                          ],
                          [
                            0.1111111111111111,
                            "#46039f"
                          ],
                          [
                            0.2222222222222222,
                            "#7201a8"
                          ],
                          [
                            0.3333333333333333,
                            "#9c179e"
                          ],
                          [
                            0.4444444444444444,
                            "#bd3786"
                          ],
                          [
                            0.5555555555555556,
                            "#d8576b"
                          ],
                          [
                            0.6666666666666666,
                            "#ed7953"
                          ],
                          [
                            0.7777777777777778,
                            "#fb9f3a"
                          ],
                          [
                            0.8888888888888888,
                            "#fdca26"
                          ],
                          [
                            1,
                            "#f0f921"
                          ]
                        ],
                        "type": "contour"
                      }
                    ],
                    "contourcarpet": [
                      {
                        "colorbar": {
                          "outlinewidth": 0,
                          "ticks": ""
                        },
                        "type": "contourcarpet"
                      }
                    ],
                    "heatmap": [
                      {
                        "colorbar": {
                          "outlinewidth": 0,
                          "ticks": ""
                        },
                        "colorscale": [
                          [
                            0,
                            "#0d0887"
                          ],
                          [
                            0.1111111111111111,
                            "#46039f"
                          ],
                          [
                            0.2222222222222222,
                            "#7201a8"
                          ],
                          [
                            0.3333333333333333,
                            "#9c179e"
                          ],
                          [
                            0.4444444444444444,
                            "#bd3786"
                          ],
                          [
                            0.5555555555555556,
                            "#d8576b"
                          ],
                          [
                            0.6666666666666666,
                            "#ed7953"
                          ],
                          [
                            0.7777777777777778,
                            "#fb9f3a"
                          ],
                          [
                            0.8888888888888888,
                            "#fdca26"
                          ],
                          [
                            1,
                            "#f0f921"
                          ]
                        ],
                        "type": "heatmap"
                      }
                    ],
                    "heatmapgl": [
                      {
                        "colorbar": {
                          "outlinewidth": 0,
                          "ticks": ""
                        },
                        "colorscale": [
                          [
                            0,
                            "#0d0887"
                          ],
                          [
                            0.1111111111111111,
                            "#46039f"
                          ],
                          [
                            0.2222222222222222,
                            "#7201a8"
                          ],
                          [
                            0.3333333333333333,
                            "#9c179e"
                          ],
                          [
                            0.4444444444444444,
                            "#bd3786"
                          ],
                          [
                            0.5555555555555556,
                            "#d8576b"
                          ],
                          [
                            0.6666666666666666,
                            "#ed7953"
                          ],
                          [
                            0.7777777777777778,
                            "#fb9f3a"
                          ],
                          [
                            0.8888888888888888,
                            "#fdca26"
                          ],
                          [
                            1,
                            "#f0f921"
                          ]
                        ],
                        "type": "heatmapgl"
                      }
                    ],
                    "histogram": [
                      {
                        "marker": {
                          "pattern": {
                            "fillmode": "overlay",
                            "size": 10,
                            "solidity": 0.2
                          }
                        },
                        "type": "histogram"
                      }
                    ],
                    "histogram2d": [
                      {
                        "colorbar": {
                          "outlinewidth": 0,
                          "ticks": ""
                        },
                        "colorscale": [
                          [
                            0,
                            "#0d0887"
                          ],
                          [
                            0.1111111111111111,
                            "#46039f"
                          ],
                          [
                            0.2222222222222222,
                            "#7201a8"
                          ],
                          [
                            0.3333333333333333,
                            "#9c179e"
                          ],
                          [
                            0.4444444444444444,
                            "#bd3786"
                          ],
                          [
                            0.5555555555555556,
                            "#d8576b"
                          ],
                          [
                            0.6666666666666666,
                            "#ed7953"
                          ],
                          [
                            0.7777777777777778,
                            "#fb9f3a"
                          ],
                          [
                            0.8888888888888888,
                            "#fdca26"
                          ],
                          [
                            1,
                            "#f0f921"
                          ]
                        ],
                        "type": "histogram2d"
                      }
                    ],
                    "histogram2dcontour": [
                      {
                        "colorbar": {
                          "outlinewidth": 0,
                          "ticks": ""
                        },
                        "colorscale": [
                          [
                            0,
                            "#0d0887"
                          ],
                          [
                            0.1111111111111111,
                            "#46039f"
                          ],
                          [
                            0.2222222222222222,
                            "#7201a8"
                          ],
                          [
                            0.3333333333333333,
                            "#9c179e"
                          ],
                          [
                            0.4444444444444444,
                            "#bd3786"
                          ],
                          [
                            0.5555555555555556,
                            "#d8576b"
                          ],
                          [
                            0.6666666666666666,
                            "#ed7953"
                          ],
                          [
                            0.7777777777777778,
                            "#fb9f3a"
                          ],
                          [
                            0.8888888888888888,
                            "#fdca26"
                          ],
                          [
                            1,
                            "#f0f921"
                          ]
                        ],
                        "type": "histogram2dcontour"
                      }
                    ],
                    "mesh3d": [
                      {
                        "colorbar": {
                          "outlinewidth": 0,
                          "ticks": ""
                        },
                        "type": "mesh3d"
                      }
                    ],
                    "parcoords": [
                      {
                        "line": {
                          "colorbar": {
                            "outlinewidth": 0,
                            "ticks": ""
                          }
                        },
                        "type": "parcoords"
                      }
                    ],
                    "pie": [
                      {
                        "automargin": true,
                        "type": "pie"
                      }
                    ],
                    "scatter": [
                      {
                        "fillpattern": {
                          "fillmode": "overlay",
                          "size": 10,
                          "solidity": 0.2
                        },
                        "type": "scatter"
                      }
                    ],
                    "scatter3d": [
                      {
                        "line": {
                          "colorbar": {
                            "outlinewidth": 0,
                            "ticks": ""
                          }
                        },
                        "marker": {
                          "colorbar": {
                            "outlinewidth": 0,
                            "ticks": ""
                          }
                        },
                        "type": "scatter3d"
                      }
                    ],
                    "scattercarpet": [
                      {
                        "marker": {
                          "colorbar": {
                            "outlinewidth": 0,
                            "ticks": ""
                          }
                        },
                        "type": "scattercarpet"
                      }
                    ],
                    "scattergeo": [
                      {
                        "marker": {
                          "colorbar": {
                            "outlinewidth": 0,
                            "ticks": ""
                          }
                        },
                        "type": "scattergeo"
                      }
                    ],
                    "scattergl": [
                      {
                        "marker": {
                          "colorbar": {
                            "outlinewidth": 0,
                            "ticks": ""
                          }
                        },
                        "type": "scattergl"
                      }
                    ],
                    "scattermapbox": [
                      {
                        "marker": {
                          "colorbar": {
                            "outlinewidth": 0,
                            "ticks": ""
                          }
                        },
                        "type": "scattermapbox"
                      }
                    ],
                    "scatterpolar": [
                      {
                        "marker": {
                          "colorbar": {
                            "outlinewidth": 0,
                            "ticks": ""
                          }
                        },
                        "type": "scatterpolar"
                      }
                    ],
                    "scatterpolargl": [
                      {
                        "marker": {
                          "colorbar": {
                            "outlinewidth": 0,
                            "ticks": ""
                          }
                        },
                        "type": "scatterpolargl"
                      }
                    ],
                    "scatterternary": [
                      {
                        "marker": {
                          "colorbar": {
                            "outlinewidth": 0,
                            "ticks": ""
                          }
                        },
                        "type": "scatterternary"
                      }
                    ],
                    "surface": [
                      {
                        "colorbar": {
                          "outlinewidth": 0,
                          "ticks": ""
                        },
                        "colorscale": [
                          [
                            0,
                            "#0d0887"
                          ],
                          [
                            0.1111111111111111,
                            "#46039f"
                          ],
                          [
                            0.2222222222222222,
                            "#7201a8"
                          ],
                          [
                            0.3333333333333333,
                            "#9c179e"
                          ],
                          [
                            0.4444444444444444,
                            "#bd3786"
                          ],
                          [
                            0.5555555555555556,
                            "#d8576b"
                          ],
                          [
                            0.6666666666666666,
                            "#ed7953"
                          ],
                          [
                            0.7777777777777778,
                            "#fb9f3a"
                          ],
                          [
                            0.8888888888888888,
                            "#fdca26"
                          ],
                          [
                            1,
                            "#f0f921"
                          ]
                        ],
                        "type": "surface"
                      }
                    ],
                    "table": [
                      {
                        "cells": {
                          "fill": {
                            "color": "#EBF0F8"
                          },
                          "line": {
                            "color": "white"
                          }
                        },
                        "header": {
                          "fill": {
                            "color": "#C8D4E3"
                          },
                          "line": {
                            "color": "white"
                          }
                        },
                        "type": "table"
                      }
                    ]
                  },
                  "layout": {
                    "annotationdefaults": {
                      "arrowcolor": "#2a3f5f",
                      "arrowhead": 0,
                      "arrowwidth": 1
                    },
                    "autotypenumbers": "strict",
                    "coloraxis": {
                      "colorbar": {
                        "outlinewidth": 0,
                        "ticks": ""
                      }
                    },
                    "colorscale": {
                      "diverging": [
                        [
                          0,
                          "#8e0152"
                        ],
                        [
                          0.1,
                          "#c51b7d"
                        ],
                        [
                          0.2,
                          "#de77ae"
                        ],
                        [
                          0.3,
                          "#f1b6da"
                        ],
                        [
                          0.4,
                          "#fde0ef"
                        ],
                        [
                          0.5,
                          "#f7f7f7"
                        ],
                        [
                          0.6,
                          "#e6f5d0"
                        ],
                        [
                          0.7,
                          "#b8e186"
                        ],
                        [
                          0.8,
                          "#7fbc41"
                        ],
                        [
                          0.9,
                          "#4d9221"
                        ],
                        [
                          1,
                          "#276419"
                        ]
                      ],
                      "sequential": [
                        [
                          0,
                          "#0d0887"
                        ],
                        [
                          0.1111111111111111,
                          "#46039f"
                        ],
                        [
                          0.2222222222222222,
                          "#7201a8"
                        ],
                        [
                          0.3333333333333333,
                          "#9c179e"
                        ],
                        [
                          0.4444444444444444,
                          "#bd3786"
                        ],
                        [
                          0.5555555555555556,
                          "#d8576b"
                        ],
                        [
                          0.6666666666666666,
                          "#ed7953"
                        ],
                        [
                          0.7777777777777778,
                          "#fb9f3a"
                        ],
                        [
                          0.8888888888888888,
                          "#fdca26"
                        ],
                        [
                          1,
                          "#f0f921"
                        ]
                      ],
                      "sequentialminus": [
                        [
                          0,
                          "#0d0887"
                        ],
                        [
                          0.1111111111111111,
                          "#46039f"
                        ],
                        [
                          0.2222222222222222,
                          "#7201a8"
                        ],
                        [
                          0.3333333333333333,
                          "#9c179e"
                        ],
                        [
                          0.4444444444444444,
                          "#bd3786"
                        ],
                        [
                          0.5555555555555556,
                          "#d8576b"
                        ],
                        [
                          0.6666666666666666,
                          "#ed7953"
                        ],
                        [
                          0.7777777777777778,
                          "#fb9f3a"
                        ],
                        [
                          0.8888888888888888,
                          "#fdca26"
                        ],
                        [
                          1,
                          "#f0f921"
                        ]
                      ]
                    },
                    "colorway": [
                      "#636efa",
                      "#EF553B",
                      "#00cc96",
                      "#ab63fa",
                      "#FFA15A",
                      "#19d3f3",
                      "#FF6692",
                      "#B6E880",
                      "#FF97FF",
                      "#FECB52"
                    ],
                    "font": {
                      "color": "#2a3f5f"
                    },
                    "geo": {
                      "bgcolor": "white",
                      "lakecolor": "white",
                      "landcolor": "#E5ECF6",
                      "showlakes": true,
                      "showland": true,
                      "subunitcolor": "white"
                    },
                    "hoverlabel": {
                      "align": "left"
                    },
                    "hovermode": "closest",
                    "mapbox": {
                      "style": "light"
                    },
                    "paper_bgcolor": "white",
                    "plot_bgcolor": "#E5ECF6",
                    "polar": {
                      "angularaxis": {
                        "gridcolor": "white",
                        "linecolor": "white",
                        "ticks": ""
                      },
                      "bgcolor": "#E5ECF6",
                      "radialaxis": {
                        "gridcolor": "white",
                        "linecolor": "white",
                        "ticks": ""
                      }
                    },
                    "scene": {
                      "xaxis": {
                        "backgroundcolor": "#E5ECF6",
                        "gridcolor": "white",
                        "gridwidth": 2,
                        "linecolor": "white",
                        "showbackground": true,
                        "ticks": "",
                        "zerolinecolor": "white"
                      },
                      "yaxis": {
                        "backgroundcolor": "#E5ECF6",
                        "gridcolor": "white",
                        "gridwidth": 2,
                        "linecolor": "white",
                        "showbackground": true,
                        "ticks": "",
                        "zerolinecolor": "white"
                      },
                      "zaxis": {
                        "backgroundcolor": "#E5ECF6",
                        "gridcolor": "white",
                        "gridwidth": 2,
                        "linecolor": "white",
                        "showbackground": true,
                        "ticks": "",
                        "zerolinecolor": "white"
                      }
                    },
                    "shapedefaults": {
                      "line": {
                        "color": "#2a3f5f"
                      }
                    },
                    "ternary": {
                      "aaxis": {
                        "gridcolor": "white",
                        "linecolor": "white",
                        "ticks": ""
                      },
                      "baxis": {
                        "gridcolor": "white",
                        "linecolor": "white",
                        "ticks": ""
                      },
                      "bgcolor": "#E5ECF6",
                      "caxis": {
                        "gridcolor": "white",
                        "linecolor": "white",
                        "ticks": ""
                      }
                    },
                    "title": {
                      "x": 0.05
                    },
                    "xaxis": {
                      "automargin": true,
                      "gridcolor": "white",
                      "linecolor": "white",
                      "ticks": "",
                      "title": {
                        "standoff": 15
                      },
                      "zerolinecolor": "white",
                      "zerolinewidth": 2
                    },
                    "yaxis": {
                      "automargin": true,
                      "gridcolor": "white",
                      "linecolor": "white",
                      "ticks": "",
                      "title": {
                        "standoff": 15
                      },
                      "zerolinecolor": "white",
                      "zerolinewidth": 2
                    }
                  }
                },
                "title": {
                  "text": "Average Health Burden by Country (Interactive)"
                }
              }
            }
          },
          "metadata": {},
          "output_type": "display_data"
        }
      ],
      "source": [
        "import plotly.express as px\n",
        "import pandas as pd\n",
        "\n",
        "# Load the cleaned dataset\n",
        "df = pd.read_csv('input_data/cleaned_water_pollution_disease.csv')\n",
        "\n",
        "\n",
        "# Step 25. Create an average pollution-health index\n",
        "df['Health Burden'] = df[\n",
        "    ['Diarrheal Cases per 100,000 people', 'Cholera Cases per 100,000 people']\n",
        "].mean(axis=1)\n",
        "country_avg = df.groupby(\"Country\", as_index=False)[\n",
        "    ['Contaminant Level (ppm)', 'Health Burden']\n",
        "].mean()\n",
        "\n",
        "# Step 26. Plotly choropleth map\n",
        "fig = px.choropleth(\n",
        "    country_avg,\n",
        "    locations=\"Country\",\n",
        "    locationmode=\"country names\",\n",
        "    color=\"Health Burden\",\n",
        "    hover_name=\"Country\",\n",
        "    hover_data=[\"Contaminant Level (ppm)\"],\n",
        "    color_continuous_scale=\"Reds\",\n",
        "    title=\"Average Health Burden by Country (Interactive)\"\n",
        ")\n",
        "fig.show()\n"
      ]
    },
    {
      "cell_type": "markdown",
      "metadata": {},
      "source": [
        "This map visualises the average health burden (based on diarrheal and cholera cases) by country. The darker the red, the higher the \n",
        "\n",
        "average health impact, helping decision-makers identify high-risk regions. Why this visual works? Because a Plotly choropleth map allows \n",
        "\n",
        "for interaction, zooming, hovering, and exploration. Also:\n",
        "\n",
        "    - It highlights spatial inequalities and can reveal regional patterns that line/bar charts cannot.\n",
        "\n",
        "    - It would be valuable for NGOs, policy analysts, or healthcare planners who need to prioritise interventions by country.\n"
      ]
    },
    {
      "cell_type": "markdown",
      "metadata": {},
      "source": [
        "Additionally, another interesting thing to do is create a Choropleth Map with dual colour or size. The first choropleth map showed a \n",
        "\n",
        "single-variable view, likely health burden, across countries. Adding a second variable via colour or size allows us to visually correlate \n",
        "\n",
        "pollution and disease across regions or GDP and disease. \n",
        "\n",
        "A choropleth map with dual encoding (colour and size) improves visual analysis by enabling two variables to be displayed simultaneously \n",
        "\n",
        "on a geographic map.\n",
        "\n",
        "    -Colour will indicate the average pollution level (e.g., Contaminant Level in ppm) or the GDP.\n",
        "\n",
        "    -Size (bubble/circle) will represent the average disease burden (e.g., Cholera or Diarrhoea cases per 100,000 people).\n",
        "    \n",
        "This will help us identify outliers, such as countries with low pollution but high disease (GDP), or high pollution but low disease; or \n",
        "\n",
        "countries with high GDP and high disease, or low GDP and low disease. This could indicate strong or weak healthcare systems, sanitation, \n",
        "\n",
        "or resilience factors. \n",
        "\n",
        "Dual encoding facilitates prioritising regions for intervention where both pollution and disease rates are high.\n",
        "\n",
        "This layered visual storytelling will aid more nuanced decision-making and provide stakeholders with a richer perspective at a glance.\n"
      ]
    },
    {
      "cell_type": "code",
      "execution_count": 14,
      "metadata": {},
      "outputs": [
        {
          "data": {
            "application/vnd.plotly.v1+json": {
              "config": {
                "plotlyServerURL": "https://plot.ly"
              },
              "data": [
                {
                  "geo": "geo",
                  "hovertemplate": "Disease Burden=%{marker.size}<br>Country=%{location}<br>Contaminant Level (ppm)=%{marker.color}<extra></extra>",
                  "legendgroup": "",
                  "locationmode": "country names",
                  "locations": [
                    "Bangladesh",
                    "Brazil",
                    "China",
                    "Ethiopia",
                    "India",
                    "Indonesia",
                    "Mexico",
                    "Nigeria",
                    "Pakistan",
                    "USA"
                  ],
                  "marker": {
                    "color": [
                      5.1784879725085915,
                      4.681374570446735,
                      4.966045016077171,
                      4.977918088737201,
                      5.141965517241379,
                      4.649210526315789,
                      5.169131944444445,
                      5.13815873015873,
                      4.653825503355704,
                      4.9917868338558
                    ],
                    "coloraxis": "coloraxis",
                    "size": [
                      94.27491408934708,
                      96.26455326460481,
                      91.45622186495176,
                      93.29939419795222,
                      94.37787068965517,
                      93.44671875,
                      95.38536458333334,
                      93.0966111111111,
                      93.49879194630873,
                      90.65561128526646
                    ],
                    "sizemode": "area",
                    "sizeref": 0.06016534579037801,
                    "symbol": "circle"
                  },
                  "mode": "markers",
                  "name": "",
                  "showlegend": false,
                  "type": "scattergeo"
                }
              ],
              "layout": {
                "coloraxis": {
                  "colorbar": {
                    "title": {
                      "text": "Contaminant Level (ppm)"
                    }
                  },
                  "colorscale": [
                    [
                      0,
                      "rgb(255,255,204)"
                    ],
                    [
                      0.125,
                      "rgb(255,237,160)"
                    ],
                    [
                      0.25,
                      "rgb(254,217,118)"
                    ],
                    [
                      0.375,
                      "rgb(254,178,76)"
                    ],
                    [
                      0.5,
                      "rgb(253,141,60)"
                    ],
                    [
                      0.625,
                      "rgb(252,78,42)"
                    ],
                    [
                      0.75,
                      "rgb(227,26,28)"
                    ],
                    [
                      0.875,
                      "rgb(189,0,38)"
                    ],
                    [
                      1,
                      "rgb(128,0,38)"
                    ]
                  ]
                },
                "geo": {
                  "center": {},
                  "domain": {
                    "x": [
                      0,
                      1
                    ],
                    "y": [
                      0,
                      1
                    ]
                  },
                  "projection": {
                    "type": "natural earth"
                  }
                },
                "legend": {
                  "itemsizing": "constant",
                  "tracegroupgap": 0
                },
                "template": {
                  "data": {
                    "bar": [
                      {
                        "error_x": {
                          "color": "#2a3f5f"
                        },
                        "error_y": {
                          "color": "#2a3f5f"
                        },
                        "marker": {
                          "line": {
                            "color": "#E5ECF6",
                            "width": 0.5
                          },
                          "pattern": {
                            "fillmode": "overlay",
                            "size": 10,
                            "solidity": 0.2
                          }
                        },
                        "type": "bar"
                      }
                    ],
                    "barpolar": [
                      {
                        "marker": {
                          "line": {
                            "color": "#E5ECF6",
                            "width": 0.5
                          },
                          "pattern": {
                            "fillmode": "overlay",
                            "size": 10,
                            "solidity": 0.2
                          }
                        },
                        "type": "barpolar"
                      }
                    ],
                    "carpet": [
                      {
                        "aaxis": {
                          "endlinecolor": "#2a3f5f",
                          "gridcolor": "white",
                          "linecolor": "white",
                          "minorgridcolor": "white",
                          "startlinecolor": "#2a3f5f"
                        },
                        "baxis": {
                          "endlinecolor": "#2a3f5f",
                          "gridcolor": "white",
                          "linecolor": "white",
                          "minorgridcolor": "white",
                          "startlinecolor": "#2a3f5f"
                        },
                        "type": "carpet"
                      }
                    ],
                    "choropleth": [
                      {
                        "colorbar": {
                          "outlinewidth": 0,
                          "ticks": ""
                        },
                        "type": "choropleth"
                      }
                    ],
                    "contour": [
                      {
                        "colorbar": {
                          "outlinewidth": 0,
                          "ticks": ""
                        },
                        "colorscale": [
                          [
                            0,
                            "#0d0887"
                          ],
                          [
                            0.1111111111111111,
                            "#46039f"
                          ],
                          [
                            0.2222222222222222,
                            "#7201a8"
                          ],
                          [
                            0.3333333333333333,
                            "#9c179e"
                          ],
                          [
                            0.4444444444444444,
                            "#bd3786"
                          ],
                          [
                            0.5555555555555556,
                            "#d8576b"
                          ],
                          [
                            0.6666666666666666,
                            "#ed7953"
                          ],
                          [
                            0.7777777777777778,
                            "#fb9f3a"
                          ],
                          [
                            0.8888888888888888,
                            "#fdca26"
                          ],
                          [
                            1,
                            "#f0f921"
                          ]
                        ],
                        "type": "contour"
                      }
                    ],
                    "contourcarpet": [
                      {
                        "colorbar": {
                          "outlinewidth": 0,
                          "ticks": ""
                        },
                        "type": "contourcarpet"
                      }
                    ],
                    "heatmap": [
                      {
                        "colorbar": {
                          "outlinewidth": 0,
                          "ticks": ""
                        },
                        "colorscale": [
                          [
                            0,
                            "#0d0887"
                          ],
                          [
                            0.1111111111111111,
                            "#46039f"
                          ],
                          [
                            0.2222222222222222,
                            "#7201a8"
                          ],
                          [
                            0.3333333333333333,
                            "#9c179e"
                          ],
                          [
                            0.4444444444444444,
                            "#bd3786"
                          ],
                          [
                            0.5555555555555556,
                            "#d8576b"
                          ],
                          [
                            0.6666666666666666,
                            "#ed7953"
                          ],
                          [
                            0.7777777777777778,
                            "#fb9f3a"
                          ],
                          [
                            0.8888888888888888,
                            "#fdca26"
                          ],
                          [
                            1,
                            "#f0f921"
                          ]
                        ],
                        "type": "heatmap"
                      }
                    ],
                    "heatmapgl": [
                      {
                        "colorbar": {
                          "outlinewidth": 0,
                          "ticks": ""
                        },
                        "colorscale": [
                          [
                            0,
                            "#0d0887"
                          ],
                          [
                            0.1111111111111111,
                            "#46039f"
                          ],
                          [
                            0.2222222222222222,
                            "#7201a8"
                          ],
                          [
                            0.3333333333333333,
                            "#9c179e"
                          ],
                          [
                            0.4444444444444444,
                            "#bd3786"
                          ],
                          [
                            0.5555555555555556,
                            "#d8576b"
                          ],
                          [
                            0.6666666666666666,
                            "#ed7953"
                          ],
                          [
                            0.7777777777777778,
                            "#fb9f3a"
                          ],
                          [
                            0.8888888888888888,
                            "#fdca26"
                          ],
                          [
                            1,
                            "#f0f921"
                          ]
                        ],
                        "type": "heatmapgl"
                      }
                    ],
                    "histogram": [
                      {
                        "marker": {
                          "pattern": {
                            "fillmode": "overlay",
                            "size": 10,
                            "solidity": 0.2
                          }
                        },
                        "type": "histogram"
                      }
                    ],
                    "histogram2d": [
                      {
                        "colorbar": {
                          "outlinewidth": 0,
                          "ticks": ""
                        },
                        "colorscale": [
                          [
                            0,
                            "#0d0887"
                          ],
                          [
                            0.1111111111111111,
                            "#46039f"
                          ],
                          [
                            0.2222222222222222,
                            "#7201a8"
                          ],
                          [
                            0.3333333333333333,
                            "#9c179e"
                          ],
                          [
                            0.4444444444444444,
                            "#bd3786"
                          ],
                          [
                            0.5555555555555556,
                            "#d8576b"
                          ],
                          [
                            0.6666666666666666,
                            "#ed7953"
                          ],
                          [
                            0.7777777777777778,
                            "#fb9f3a"
                          ],
                          [
                            0.8888888888888888,
                            "#fdca26"
                          ],
                          [
                            1,
                            "#f0f921"
                          ]
                        ],
                        "type": "histogram2d"
                      }
                    ],
                    "histogram2dcontour": [
                      {
                        "colorbar": {
                          "outlinewidth": 0,
                          "ticks": ""
                        },
                        "colorscale": [
                          [
                            0,
                            "#0d0887"
                          ],
                          [
                            0.1111111111111111,
                            "#46039f"
                          ],
                          [
                            0.2222222222222222,
                            "#7201a8"
                          ],
                          [
                            0.3333333333333333,
                            "#9c179e"
                          ],
                          [
                            0.4444444444444444,
                            "#bd3786"
                          ],
                          [
                            0.5555555555555556,
                            "#d8576b"
                          ],
                          [
                            0.6666666666666666,
                            "#ed7953"
                          ],
                          [
                            0.7777777777777778,
                            "#fb9f3a"
                          ],
                          [
                            0.8888888888888888,
                            "#fdca26"
                          ],
                          [
                            1,
                            "#f0f921"
                          ]
                        ],
                        "type": "histogram2dcontour"
                      }
                    ],
                    "mesh3d": [
                      {
                        "colorbar": {
                          "outlinewidth": 0,
                          "ticks": ""
                        },
                        "type": "mesh3d"
                      }
                    ],
                    "parcoords": [
                      {
                        "line": {
                          "colorbar": {
                            "outlinewidth": 0,
                            "ticks": ""
                          }
                        },
                        "type": "parcoords"
                      }
                    ],
                    "pie": [
                      {
                        "automargin": true,
                        "type": "pie"
                      }
                    ],
                    "scatter": [
                      {
                        "fillpattern": {
                          "fillmode": "overlay",
                          "size": 10,
                          "solidity": 0.2
                        },
                        "type": "scatter"
                      }
                    ],
                    "scatter3d": [
                      {
                        "line": {
                          "colorbar": {
                            "outlinewidth": 0,
                            "ticks": ""
                          }
                        },
                        "marker": {
                          "colorbar": {
                            "outlinewidth": 0,
                            "ticks": ""
                          }
                        },
                        "type": "scatter3d"
                      }
                    ],
                    "scattercarpet": [
                      {
                        "marker": {
                          "colorbar": {
                            "outlinewidth": 0,
                            "ticks": ""
                          }
                        },
                        "type": "scattercarpet"
                      }
                    ],
                    "scattergeo": [
                      {
                        "marker": {
                          "colorbar": {
                            "outlinewidth": 0,
                            "ticks": ""
                          }
                        },
                        "type": "scattergeo"
                      }
                    ],
                    "scattergl": [
                      {
                        "marker": {
                          "colorbar": {
                            "outlinewidth": 0,
                            "ticks": ""
                          }
                        },
                        "type": "scattergl"
                      }
                    ],
                    "scattermapbox": [
                      {
                        "marker": {
                          "colorbar": {
                            "outlinewidth": 0,
                            "ticks": ""
                          }
                        },
                        "type": "scattermapbox"
                      }
                    ],
                    "scatterpolar": [
                      {
                        "marker": {
                          "colorbar": {
                            "outlinewidth": 0,
                            "ticks": ""
                          }
                        },
                        "type": "scatterpolar"
                      }
                    ],
                    "scatterpolargl": [
                      {
                        "marker": {
                          "colorbar": {
                            "outlinewidth": 0,
                            "ticks": ""
                          }
                        },
                        "type": "scatterpolargl"
                      }
                    ],
                    "scatterternary": [
                      {
                        "marker": {
                          "colorbar": {
                            "outlinewidth": 0,
                            "ticks": ""
                          }
                        },
                        "type": "scatterternary"
                      }
                    ],
                    "surface": [
                      {
                        "colorbar": {
                          "outlinewidth": 0,
                          "ticks": ""
                        },
                        "colorscale": [
                          [
                            0,
                            "#0d0887"
                          ],
                          [
                            0.1111111111111111,
                            "#46039f"
                          ],
                          [
                            0.2222222222222222,
                            "#7201a8"
                          ],
                          [
                            0.3333333333333333,
                            "#9c179e"
                          ],
                          [
                            0.4444444444444444,
                            "#bd3786"
                          ],
                          [
                            0.5555555555555556,
                            "#d8576b"
                          ],
                          [
                            0.6666666666666666,
                            "#ed7953"
                          ],
                          [
                            0.7777777777777778,
                            "#fb9f3a"
                          ],
                          [
                            0.8888888888888888,
                            "#fdca26"
                          ],
                          [
                            1,
                            "#f0f921"
                          ]
                        ],
                        "type": "surface"
                      }
                    ],
                    "table": [
                      {
                        "cells": {
                          "fill": {
                            "color": "#EBF0F8"
                          },
                          "line": {
                            "color": "white"
                          }
                        },
                        "header": {
                          "fill": {
                            "color": "#C8D4E3"
                          },
                          "line": {
                            "color": "white"
                          }
                        },
                        "type": "table"
                      }
                    ]
                  },
                  "layout": {
                    "annotationdefaults": {
                      "arrowcolor": "#2a3f5f",
                      "arrowhead": 0,
                      "arrowwidth": 1
                    },
                    "autotypenumbers": "strict",
                    "coloraxis": {
                      "colorbar": {
                        "outlinewidth": 0,
                        "ticks": ""
                      }
                    },
                    "colorscale": {
                      "diverging": [
                        [
                          0,
                          "#8e0152"
                        ],
                        [
                          0.1,
                          "#c51b7d"
                        ],
                        [
                          0.2,
                          "#de77ae"
                        ],
                        [
                          0.3,
                          "#f1b6da"
                        ],
                        [
                          0.4,
                          "#fde0ef"
                        ],
                        [
                          0.5,
                          "#f7f7f7"
                        ],
                        [
                          0.6,
                          "#e6f5d0"
                        ],
                        [
                          0.7,
                          "#b8e186"
                        ],
                        [
                          0.8,
                          "#7fbc41"
                        ],
                        [
                          0.9,
                          "#4d9221"
                        ],
                        [
                          1,
                          "#276419"
                        ]
                      ],
                      "sequential": [
                        [
                          0,
                          "#0d0887"
                        ],
                        [
                          0.1111111111111111,
                          "#46039f"
                        ],
                        [
                          0.2222222222222222,
                          "#7201a8"
                        ],
                        [
                          0.3333333333333333,
                          "#9c179e"
                        ],
                        [
                          0.4444444444444444,
                          "#bd3786"
                        ],
                        [
                          0.5555555555555556,
                          "#d8576b"
                        ],
                        [
                          0.6666666666666666,
                          "#ed7953"
                        ],
                        [
                          0.7777777777777778,
                          "#fb9f3a"
                        ],
                        [
                          0.8888888888888888,
                          "#fdca26"
                        ],
                        [
                          1,
                          "#f0f921"
                        ]
                      ],
                      "sequentialminus": [
                        [
                          0,
                          "#0d0887"
                        ],
                        [
                          0.1111111111111111,
                          "#46039f"
                        ],
                        [
                          0.2222222222222222,
                          "#7201a8"
                        ],
                        [
                          0.3333333333333333,
                          "#9c179e"
                        ],
                        [
                          0.4444444444444444,
                          "#bd3786"
                        ],
                        [
                          0.5555555555555556,
                          "#d8576b"
                        ],
                        [
                          0.6666666666666666,
                          "#ed7953"
                        ],
                        [
                          0.7777777777777778,
                          "#fb9f3a"
                        ],
                        [
                          0.8888888888888888,
                          "#fdca26"
                        ],
                        [
                          1,
                          "#f0f921"
                        ]
                      ]
                    },
                    "colorway": [
                      "#636efa",
                      "#EF553B",
                      "#00cc96",
                      "#ab63fa",
                      "#FFA15A",
                      "#19d3f3",
                      "#FF6692",
                      "#B6E880",
                      "#FF97FF",
                      "#FECB52"
                    ],
                    "font": {
                      "color": "#2a3f5f"
                    },
                    "geo": {
                      "bgcolor": "white",
                      "lakecolor": "white",
                      "landcolor": "#E5ECF6",
                      "showlakes": true,
                      "showland": true,
                      "subunitcolor": "white"
                    },
                    "hoverlabel": {
                      "align": "left"
                    },
                    "hovermode": "closest",
                    "mapbox": {
                      "style": "light"
                    },
                    "paper_bgcolor": "white",
                    "plot_bgcolor": "#E5ECF6",
                    "polar": {
                      "angularaxis": {
                        "gridcolor": "white",
                        "linecolor": "white",
                        "ticks": ""
                      },
                      "bgcolor": "#E5ECF6",
                      "radialaxis": {
                        "gridcolor": "white",
                        "linecolor": "white",
                        "ticks": ""
                      }
                    },
                    "scene": {
                      "xaxis": {
                        "backgroundcolor": "#E5ECF6",
                        "gridcolor": "white",
                        "gridwidth": 2,
                        "linecolor": "white",
                        "showbackground": true,
                        "ticks": "",
                        "zerolinecolor": "white"
                      },
                      "yaxis": {
                        "backgroundcolor": "#E5ECF6",
                        "gridcolor": "white",
                        "gridwidth": 2,
                        "linecolor": "white",
                        "showbackground": true,
                        "ticks": "",
                        "zerolinecolor": "white"
                      },
                      "zaxis": {
                        "backgroundcolor": "#E5ECF6",
                        "gridcolor": "white",
                        "gridwidth": 2,
                        "linecolor": "white",
                        "showbackground": true,
                        "ticks": "",
                        "zerolinecolor": "white"
                      }
                    },
                    "shapedefaults": {
                      "line": {
                        "color": "#2a3f5f"
                      }
                    },
                    "ternary": {
                      "aaxis": {
                        "gridcolor": "white",
                        "linecolor": "white",
                        "ticks": ""
                      },
                      "baxis": {
                        "gridcolor": "white",
                        "linecolor": "white",
                        "ticks": ""
                      },
                      "bgcolor": "#E5ECF6",
                      "caxis": {
                        "gridcolor": "white",
                        "linecolor": "white",
                        "ticks": ""
                      }
                    },
                    "title": {
                      "x": 0.05
                    },
                    "xaxis": {
                      "automargin": true,
                      "gridcolor": "white",
                      "linecolor": "white",
                      "ticks": "",
                      "title": {
                        "standoff": 15
                      },
                      "zerolinecolor": "white",
                      "zerolinewidth": 2
                    },
                    "yaxis": {
                      "automargin": true,
                      "gridcolor": "white",
                      "linecolor": "white",
                      "ticks": "",
                      "title": {
                        "standoff": 15
                      },
                      "zerolinecolor": "white",
                      "zerolinewidth": 2
                    }
                  }
                },
                "title": {
                  "text": "🌍 Pollution vs Disease Burden by Country"
                }
              }
            }
          },
          "metadata": {},
          "output_type": "display_data"
        },
        {
          "data": {
            "application/vnd.plotly.v1+json": {
              "config": {
                "plotlyServerURL": "https://plot.ly"
              },
              "data": [
                {
                  "geo": "geo",
                  "hovertemplate": "Disease Burden=%{marker.size}<br>Country=%{location}<br>GDP per Capita (USD)=%{marker.color}<extra></extra>",
                  "legendgroup": "",
                  "locationmode": "country names",
                  "locations": [
                    "Bangladesh",
                    "Brazil",
                    "China",
                    "Ethiopia",
                    "India",
                    "Indonesia",
                    "Mexico",
                    "Nigeria",
                    "Pakistan",
                    "USA"
                  ],
                  "marker": {
                    "color": [
                      48973.38144329897,
                      50334.168384879726,
                      50368.7459807074,
                      51939.93174061433,
                      47883.120689655174,
                      51554.03618421053,
                      49210.819444444445,
                      49005.730158730155,
                      51556.976510067114,
                      49514.047021943574
                    ],
                    "coloraxis": "coloraxis",
                    "size": [
                      94.27491408934708,
                      96.26455326460481,
                      91.45622186495176,
                      93.29939419795222,
                      94.37787068965517,
                      93.44671875,
                      95.38536458333334,
                      93.0966111111111,
                      93.49879194630873,
                      90.65561128526646
                    ],
                    "sizemode": "area",
                    "sizeref": 0.06016534579037801,
                    "symbol": "circle"
                  },
                  "mode": "markers",
                  "name": "",
                  "showlegend": false,
                  "type": "scattergeo"
                }
              ],
              "layout": {
                "coloraxis": {
                  "colorbar": {
                    "title": {
                      "text": "GDP per Capita (USD)"
                    }
                  },
                  "colorscale": [
                    [
                      0,
                      "#440154"
                    ],
                    [
                      0.1111111111111111,
                      "#482878"
                    ],
                    [
                      0.2222222222222222,
                      "#3e4989"
                    ],
                    [
                      0.3333333333333333,
                      "#31688e"
                    ],
                    [
                      0.4444444444444444,
                      "#26828e"
                    ],
                    [
                      0.5555555555555556,
                      "#1f9e89"
                    ],
                    [
                      0.6666666666666666,
                      "#35b779"
                    ],
                    [
                      0.7777777777777778,
                      "#6ece58"
                    ],
                    [
                      0.8888888888888888,
                      "#b5de2b"
                    ],
                    [
                      1,
                      "#fde725"
                    ]
                  ]
                },
                "geo": {
                  "center": {},
                  "domain": {
                    "x": [
                      0,
                      1
                    ],
                    "y": [
                      0,
                      1
                    ]
                  },
                  "projection": {
                    "type": "natural earth"
                  }
                },
                "legend": {
                  "itemsizing": "constant",
                  "tracegroupgap": 0
                },
                "template": {
                  "data": {
                    "bar": [
                      {
                        "error_x": {
                          "color": "#2a3f5f"
                        },
                        "error_y": {
                          "color": "#2a3f5f"
                        },
                        "marker": {
                          "line": {
                            "color": "#E5ECF6",
                            "width": 0.5
                          },
                          "pattern": {
                            "fillmode": "overlay",
                            "size": 10,
                            "solidity": 0.2
                          }
                        },
                        "type": "bar"
                      }
                    ],
                    "barpolar": [
                      {
                        "marker": {
                          "line": {
                            "color": "#E5ECF6",
                            "width": 0.5
                          },
                          "pattern": {
                            "fillmode": "overlay",
                            "size": 10,
                            "solidity": 0.2
                          }
                        },
                        "type": "barpolar"
                      }
                    ],
                    "carpet": [
                      {
                        "aaxis": {
                          "endlinecolor": "#2a3f5f",
                          "gridcolor": "white",
                          "linecolor": "white",
                          "minorgridcolor": "white",
                          "startlinecolor": "#2a3f5f"
                        },
                        "baxis": {
                          "endlinecolor": "#2a3f5f",
                          "gridcolor": "white",
                          "linecolor": "white",
                          "minorgridcolor": "white",
                          "startlinecolor": "#2a3f5f"
                        },
                        "type": "carpet"
                      }
                    ],
                    "choropleth": [
                      {
                        "colorbar": {
                          "outlinewidth": 0,
                          "ticks": ""
                        },
                        "type": "choropleth"
                      }
                    ],
                    "contour": [
                      {
                        "colorbar": {
                          "outlinewidth": 0,
                          "ticks": ""
                        },
                        "colorscale": [
                          [
                            0,
                            "#0d0887"
                          ],
                          [
                            0.1111111111111111,
                            "#46039f"
                          ],
                          [
                            0.2222222222222222,
                            "#7201a8"
                          ],
                          [
                            0.3333333333333333,
                            "#9c179e"
                          ],
                          [
                            0.4444444444444444,
                            "#bd3786"
                          ],
                          [
                            0.5555555555555556,
                            "#d8576b"
                          ],
                          [
                            0.6666666666666666,
                            "#ed7953"
                          ],
                          [
                            0.7777777777777778,
                            "#fb9f3a"
                          ],
                          [
                            0.8888888888888888,
                            "#fdca26"
                          ],
                          [
                            1,
                            "#f0f921"
                          ]
                        ],
                        "type": "contour"
                      }
                    ],
                    "contourcarpet": [
                      {
                        "colorbar": {
                          "outlinewidth": 0,
                          "ticks": ""
                        },
                        "type": "contourcarpet"
                      }
                    ],
                    "heatmap": [
                      {
                        "colorbar": {
                          "outlinewidth": 0,
                          "ticks": ""
                        },
                        "colorscale": [
                          [
                            0,
                            "#0d0887"
                          ],
                          [
                            0.1111111111111111,
                            "#46039f"
                          ],
                          [
                            0.2222222222222222,
                            "#7201a8"
                          ],
                          [
                            0.3333333333333333,
                            "#9c179e"
                          ],
                          [
                            0.4444444444444444,
                            "#bd3786"
                          ],
                          [
                            0.5555555555555556,
                            "#d8576b"
                          ],
                          [
                            0.6666666666666666,
                            "#ed7953"
                          ],
                          [
                            0.7777777777777778,
                            "#fb9f3a"
                          ],
                          [
                            0.8888888888888888,
                            "#fdca26"
                          ],
                          [
                            1,
                            "#f0f921"
                          ]
                        ],
                        "type": "heatmap"
                      }
                    ],
                    "heatmapgl": [
                      {
                        "colorbar": {
                          "outlinewidth": 0,
                          "ticks": ""
                        },
                        "colorscale": [
                          [
                            0,
                            "#0d0887"
                          ],
                          [
                            0.1111111111111111,
                            "#46039f"
                          ],
                          [
                            0.2222222222222222,
                            "#7201a8"
                          ],
                          [
                            0.3333333333333333,
                            "#9c179e"
                          ],
                          [
                            0.4444444444444444,
                            "#bd3786"
                          ],
                          [
                            0.5555555555555556,
                            "#d8576b"
                          ],
                          [
                            0.6666666666666666,
                            "#ed7953"
                          ],
                          [
                            0.7777777777777778,
                            "#fb9f3a"
                          ],
                          [
                            0.8888888888888888,
                            "#fdca26"
                          ],
                          [
                            1,
                            "#f0f921"
                          ]
                        ],
                        "type": "heatmapgl"
                      }
                    ],
                    "histogram": [
                      {
                        "marker": {
                          "pattern": {
                            "fillmode": "overlay",
                            "size": 10,
                            "solidity": 0.2
                          }
                        },
                        "type": "histogram"
                      }
                    ],
                    "histogram2d": [
                      {
                        "colorbar": {
                          "outlinewidth": 0,
                          "ticks": ""
                        },
                        "colorscale": [
                          [
                            0,
                            "#0d0887"
                          ],
                          [
                            0.1111111111111111,
                            "#46039f"
                          ],
                          [
                            0.2222222222222222,
                            "#7201a8"
                          ],
                          [
                            0.3333333333333333,
                            "#9c179e"
                          ],
                          [
                            0.4444444444444444,
                            "#bd3786"
                          ],
                          [
                            0.5555555555555556,
                            "#d8576b"
                          ],
                          [
                            0.6666666666666666,
                            "#ed7953"
                          ],
                          [
                            0.7777777777777778,
                            "#fb9f3a"
                          ],
                          [
                            0.8888888888888888,
                            "#fdca26"
                          ],
                          [
                            1,
                            "#f0f921"
                          ]
                        ],
                        "type": "histogram2d"
                      }
                    ],
                    "histogram2dcontour": [
                      {
                        "colorbar": {
                          "outlinewidth": 0,
                          "ticks": ""
                        },
                        "colorscale": [
                          [
                            0,
                            "#0d0887"
                          ],
                          [
                            0.1111111111111111,
                            "#46039f"
                          ],
                          [
                            0.2222222222222222,
                            "#7201a8"
                          ],
                          [
                            0.3333333333333333,
                            "#9c179e"
                          ],
                          [
                            0.4444444444444444,
                            "#bd3786"
                          ],
                          [
                            0.5555555555555556,
                            "#d8576b"
                          ],
                          [
                            0.6666666666666666,
                            "#ed7953"
                          ],
                          [
                            0.7777777777777778,
                            "#fb9f3a"
                          ],
                          [
                            0.8888888888888888,
                            "#fdca26"
                          ],
                          [
                            1,
                            "#f0f921"
                          ]
                        ],
                        "type": "histogram2dcontour"
                      }
                    ],
                    "mesh3d": [
                      {
                        "colorbar": {
                          "outlinewidth": 0,
                          "ticks": ""
                        },
                        "type": "mesh3d"
                      }
                    ],
                    "parcoords": [
                      {
                        "line": {
                          "colorbar": {
                            "outlinewidth": 0,
                            "ticks": ""
                          }
                        },
                        "type": "parcoords"
                      }
                    ],
                    "pie": [
                      {
                        "automargin": true,
                        "type": "pie"
                      }
                    ],
                    "scatter": [
                      {
                        "fillpattern": {
                          "fillmode": "overlay",
                          "size": 10,
                          "solidity": 0.2
                        },
                        "type": "scatter"
                      }
                    ],
                    "scatter3d": [
                      {
                        "line": {
                          "colorbar": {
                            "outlinewidth": 0,
                            "ticks": ""
                          }
                        },
                        "marker": {
                          "colorbar": {
                            "outlinewidth": 0,
                            "ticks": ""
                          }
                        },
                        "type": "scatter3d"
                      }
                    ],
                    "scattercarpet": [
                      {
                        "marker": {
                          "colorbar": {
                            "outlinewidth": 0,
                            "ticks": ""
                          }
                        },
                        "type": "scattercarpet"
                      }
                    ],
                    "scattergeo": [
                      {
                        "marker": {
                          "colorbar": {
                            "outlinewidth": 0,
                            "ticks": ""
                          }
                        },
                        "type": "scattergeo"
                      }
                    ],
                    "scattergl": [
                      {
                        "marker": {
                          "colorbar": {
                            "outlinewidth": 0,
                            "ticks": ""
                          }
                        },
                        "type": "scattergl"
                      }
                    ],
                    "scattermapbox": [
                      {
                        "marker": {
                          "colorbar": {
                            "outlinewidth": 0,
                            "ticks": ""
                          }
                        },
                        "type": "scattermapbox"
                      }
                    ],
                    "scatterpolar": [
                      {
                        "marker": {
                          "colorbar": {
                            "outlinewidth": 0,
                            "ticks": ""
                          }
                        },
                        "type": "scatterpolar"
                      }
                    ],
                    "scatterpolargl": [
                      {
                        "marker": {
                          "colorbar": {
                            "outlinewidth": 0,
                            "ticks": ""
                          }
                        },
                        "type": "scatterpolargl"
                      }
                    ],
                    "scatterternary": [
                      {
                        "marker": {
                          "colorbar": {
                            "outlinewidth": 0,
                            "ticks": ""
                          }
                        },
                        "type": "scatterternary"
                      }
                    ],
                    "surface": [
                      {
                        "colorbar": {
                          "outlinewidth": 0,
                          "ticks": ""
                        },
                        "colorscale": [
                          [
                            0,
                            "#0d0887"
                          ],
                          [
                            0.1111111111111111,
                            "#46039f"
                          ],
                          [
                            0.2222222222222222,
                            "#7201a8"
                          ],
                          [
                            0.3333333333333333,
                            "#9c179e"
                          ],
                          [
                            0.4444444444444444,
                            "#bd3786"
                          ],
                          [
                            0.5555555555555556,
                            "#d8576b"
                          ],
                          [
                            0.6666666666666666,
                            "#ed7953"
                          ],
                          [
                            0.7777777777777778,
                            "#fb9f3a"
                          ],
                          [
                            0.8888888888888888,
                            "#fdca26"
                          ],
                          [
                            1,
                            "#f0f921"
                          ]
                        ],
                        "type": "surface"
                      }
                    ],
                    "table": [
                      {
                        "cells": {
                          "fill": {
                            "color": "#EBF0F8"
                          },
                          "line": {
                            "color": "white"
                          }
                        },
                        "header": {
                          "fill": {
                            "color": "#C8D4E3"
                          },
                          "line": {
                            "color": "white"
                          }
                        },
                        "type": "table"
                      }
                    ]
                  },
                  "layout": {
                    "annotationdefaults": {
                      "arrowcolor": "#2a3f5f",
                      "arrowhead": 0,
                      "arrowwidth": 1
                    },
                    "autotypenumbers": "strict",
                    "coloraxis": {
                      "colorbar": {
                        "outlinewidth": 0,
                        "ticks": ""
                      }
                    },
                    "colorscale": {
                      "diverging": [
                        [
                          0,
                          "#8e0152"
                        ],
                        [
                          0.1,
                          "#c51b7d"
                        ],
                        [
                          0.2,
                          "#de77ae"
                        ],
                        [
                          0.3,
                          "#f1b6da"
                        ],
                        [
                          0.4,
                          "#fde0ef"
                        ],
                        [
                          0.5,
                          "#f7f7f7"
                        ],
                        [
                          0.6,
                          "#e6f5d0"
                        ],
                        [
                          0.7,
                          "#b8e186"
                        ],
                        [
                          0.8,
                          "#7fbc41"
                        ],
                        [
                          0.9,
                          "#4d9221"
                        ],
                        [
                          1,
                          "#276419"
                        ]
                      ],
                      "sequential": [
                        [
                          0,
                          "#0d0887"
                        ],
                        [
                          0.1111111111111111,
                          "#46039f"
                        ],
                        [
                          0.2222222222222222,
                          "#7201a8"
                        ],
                        [
                          0.3333333333333333,
                          "#9c179e"
                        ],
                        [
                          0.4444444444444444,
                          "#bd3786"
                        ],
                        [
                          0.5555555555555556,
                          "#d8576b"
                        ],
                        [
                          0.6666666666666666,
                          "#ed7953"
                        ],
                        [
                          0.7777777777777778,
                          "#fb9f3a"
                        ],
                        [
                          0.8888888888888888,
                          "#fdca26"
                        ],
                        [
                          1,
                          "#f0f921"
                        ]
                      ],
                      "sequentialminus": [
                        [
                          0,
                          "#0d0887"
                        ],
                        [
                          0.1111111111111111,
                          "#46039f"
                        ],
                        [
                          0.2222222222222222,
                          "#7201a8"
                        ],
                        [
                          0.3333333333333333,
                          "#9c179e"
                        ],
                        [
                          0.4444444444444444,
                          "#bd3786"
                        ],
                        [
                          0.5555555555555556,
                          "#d8576b"
                        ],
                        [
                          0.6666666666666666,
                          "#ed7953"
                        ],
                        [
                          0.7777777777777778,
                          "#fb9f3a"
                        ],
                        [
                          0.8888888888888888,
                          "#fdca26"
                        ],
                        [
                          1,
                          "#f0f921"
                        ]
                      ]
                    },
                    "colorway": [
                      "#636efa",
                      "#EF553B",
                      "#00cc96",
                      "#ab63fa",
                      "#FFA15A",
                      "#19d3f3",
                      "#FF6692",
                      "#B6E880",
                      "#FF97FF",
                      "#FECB52"
                    ],
                    "font": {
                      "color": "#2a3f5f"
                    },
                    "geo": {
                      "bgcolor": "white",
                      "lakecolor": "white",
                      "landcolor": "#E5ECF6",
                      "showlakes": true,
                      "showland": true,
                      "subunitcolor": "white"
                    },
                    "hoverlabel": {
                      "align": "left"
                    },
                    "hovermode": "closest",
                    "mapbox": {
                      "style": "light"
                    },
                    "paper_bgcolor": "white",
                    "plot_bgcolor": "#E5ECF6",
                    "polar": {
                      "angularaxis": {
                        "gridcolor": "white",
                        "linecolor": "white",
                        "ticks": ""
                      },
                      "bgcolor": "#E5ECF6",
                      "radialaxis": {
                        "gridcolor": "white",
                        "linecolor": "white",
                        "ticks": ""
                      }
                    },
                    "scene": {
                      "xaxis": {
                        "backgroundcolor": "#E5ECF6",
                        "gridcolor": "white",
                        "gridwidth": 2,
                        "linecolor": "white",
                        "showbackground": true,
                        "ticks": "",
                        "zerolinecolor": "white"
                      },
                      "yaxis": {
                        "backgroundcolor": "#E5ECF6",
                        "gridcolor": "white",
                        "gridwidth": 2,
                        "linecolor": "white",
                        "showbackground": true,
                        "ticks": "",
                        "zerolinecolor": "white"
                      },
                      "zaxis": {
                        "backgroundcolor": "#E5ECF6",
                        "gridcolor": "white",
                        "gridwidth": 2,
                        "linecolor": "white",
                        "showbackground": true,
                        "ticks": "",
                        "zerolinecolor": "white"
                      }
                    },
                    "shapedefaults": {
                      "line": {
                        "color": "#2a3f5f"
                      }
                    },
                    "ternary": {
                      "aaxis": {
                        "gridcolor": "white",
                        "linecolor": "white",
                        "ticks": ""
                      },
                      "baxis": {
                        "gridcolor": "white",
                        "linecolor": "white",
                        "ticks": ""
                      },
                      "bgcolor": "#E5ECF6",
                      "caxis": {
                        "gridcolor": "white",
                        "linecolor": "white",
                        "ticks": ""
                      }
                    },
                    "title": {
                      "x": 0.05
                    },
                    "xaxis": {
                      "automargin": true,
                      "gridcolor": "white",
                      "linecolor": "white",
                      "ticks": "",
                      "title": {
                        "standoff": 15
                      },
                      "zerolinecolor": "white",
                      "zerolinewidth": 2
                    },
                    "yaxis": {
                      "automargin": true,
                      "gridcolor": "white",
                      "linecolor": "white",
                      "ticks": "",
                      "title": {
                        "standoff": 15
                      },
                      "zerolinecolor": "white",
                      "zerolinewidth": 2
                    }
                  }
                },
                "title": {
                  "text": "🌍 GDP vs Disease Burden by Country"
                }
              }
            }
          },
          "metadata": {},
          "output_type": "display_data"
        }
      ],
      "source": [
        "import pandas as pd\n",
        "import plotly.express as px\n",
        "\n",
        "# Step 27. Load the cleaned dataset\n",
        "df = pd.read_csv(\"input_data/cleaned_water_pollution_disease.csv\")\n",
        "\n",
        "#Step 28. Create average disease burden metric\n",
        "df['Disease Burden'] = df[[\n",
        "    'Diarrheal Cases per 100,000 people',\n",
        "    'Cholera Cases per 100,000 people',\n",
        "    'Typhoid Cases per 100,000 people',\n",
        "    'Infant Mortality Rate (per 1,000 live births)'\n",
        "]].mean(axis=1)\n",
        "\n",
        "#Step 29. Group by Country for pollution\n",
        "pollution_df = df.groupby('Country', as_index=False)[[\n",
        "    'Contaminant Level (ppm)', 'Disease Burden'\n",
        "]].mean()\n",
        "\n",
        "#Step 29. Choropleth with Color = Pollution, Size = Disease\n",
        "fig_pollution = px.scatter_geo(\n",
        "    pollution_df,\n",
        "    locations=\"Country\",\n",
        "    locationmode=\"country names\",\n",
        "    color=\"Contaminant Level (ppm)\",\n",
        "    size=\"Disease Burden\",\n",
        "    projection=\"natural earth\",\n",
        "    title=\"🌍 Pollution vs Disease Burden by Country\",\n",
        "    color_continuous_scale=\"YlOrRd\",\n",
        "    size_max=40\n",
        ")\n",
        "\n",
        "# Step 30. Group by Country for GDP\n",
        "gdp_df = df.groupby('Country', as_index=False)[[\n",
        "    'GDP per Capita (USD)', 'Disease Burden'\n",
        "]].mean()\n",
        "\n",
        "# Step 31. Choropleth with Color = GDP, Size = Disease\n",
        "fig_gdp = px.scatter_geo(\n",
        "    gdp_df,\n",
        "    locations=\"Country\",\n",
        "    locationmode=\"country names\",\n",
        "    color=\"GDP per Capita (USD)\",\n",
        "    size=\"Disease Burden\",\n",
        "    projection=\"natural earth\",\n",
        "    title=\"🌍 GDP vs Disease Burden by Country\",\n",
        "    color_continuous_scale=\"Viridis\",\n",
        "    size_max=40\n",
        ")\n",
        "\n",
        "\n",
        "fig_pollution.show()\n",
        "fig_gdp.show()\n"
      ]
    },
    {
      "cell_type": "markdown",
      "metadata": {},
      "source": [
        " Choropleth 1: Pollution vs Disease Burden\n",
        "\n",
        "  -Colour: Represents the average pollution level (Contaminant Level (ppm)) for each country.\n",
        "\n",
        "  -Size: Represents the average disease burden, combining metrics like diarrheal, cholera, and typhoid cases plus infant mortality.\n",
        "\n",
        " Choropleth 2: GDP vs Disease Burden\n",
        "\n",
        "  -Colour: Represents the average GDP per capita for each country.\n",
        "\n",
        "  -Size: Represents the same average disease burden as above.\n",
        "\n",
        "Both maps use circles on a global map to provide an intuitive way to compare environmental or economic factors with health outcomes \n",
        "\n",
        "across countries."
      ]
    },
    {
      "cell_type": "markdown",
      "metadata": {},
      "source": [
        "This dual-encoding design quickly helps answer: “Do countries with higher pollution or lower GDP suffer more from disease outbreaks?” \n",
        "\n",
        "Additionally, it provides a visual link between environmental or economic factors and public health. It visually aids in hypothesis \n",
        "\n",
        "testing and policy prioritisation."
      ]
    },
    {
      "cell_type": "markdown",
      "metadata": {},
      "source": [
        "## Hypothesis Testing: Uncovering the Hidden Links\n",
        "\n",
        "To understand the true cost of inaction in the face of water pollution, we will test three key hypotheses. Each one explores a possible \n",
        "\n",
        "relationship between pollution levels, public health outcomes, and economic consequences. These hypotheses are based on real-world \n",
        "\n",
        "concerns, from predicting disease outbreaks to estimating the financial burden on healthcare systems, and aim to guide more informed, \n",
        "\n",
        "data-driven decisions."
      ]
    },
    {
      "cell_type": "markdown",
      "metadata": {},
      "source": [
        "**Hypothesis 1:**\n",
        "\n",
        "Higher levels of water pollution are associated with increased disease outbreaks (e.g. cholera and diarrhoea).\n",
        "\n",
        "➡️ This hypothesis investigates whether contaminated water sources directly contribute to a greater health burden in affected regions.\n",
        "\n",
        "Goal: Test if pollution correlates with increased diarrheal and cholera cases.\n",
        "\n",
        "Relevant columns:\n",
        "\n",
        "    Contaminant Level (ppm)\n",
        "\n",
        "    Diarrheal Cases per 100,000 people\n",
        "\n",
        "    Cholera Cases per 100,000 people\n",
        "\n",
        "Test: Pearson Correlation Coefficient\n",
        "\n",
        "✅ Why:\n",
        "\n",
        "- Both Contaminant Level (ppm) and the disease indicators (Diarrheal Cases, Cholera Cases) are continuous variables.\n",
        "\n",
        "- We want to measure the strength and direction of the linear relationship between contamination and health impact.\n",
        "\n",
        "**Hypothesis 2:**\n",
        "\n",
        "Countries with lower GDP per capita experience a higher disease burden from water-related outbreaks.\n",
        "\n",
        "➡️ This explores the relationship between economic capacity and public health resilience, suggesting that limited infrastructure and \n",
        "\n",
        "healthcare funding may worsen the impact of contaminated water.\n",
        "\n",
        "Goal: Examine if lower economic status relates to higher disease burden under similar contamination levels.\n",
        "\n",
        "Relevant columns:\n",
        "\n",
        "    GDP per Capita (USD)\n",
        "\n",
        "    Health Burden (average of diarrheal and cholera cases)\n",
        "\n",
        "    Contaminant Level (ppm)\n",
        "    \n",
        "➡️ Test: Multiple Linear Regression\n",
        "\n",
        "✅ Why:\n",
        "\n",
        "- We want to model how GDP per Capita and Contaminant Level (ppm) together influence Health Burden.\n",
        "\n",
        "- This test allows us to see if GDP adds explanatory power to the model and whether lower GDP magnifies the health impact of pollution.\n",
        "\n",
        " **Hypothesis 3:**\n",
        "\n",
        "A higher disease burden from water pollution leads to increased total healthcare costs per outbreak.\n",
        "\n",
        "➡️ This hypothesis examines whether the number of water-related illness cases (e.g., cholera, diarrhoea) is a strong predictor of how \n",
        "\n",
        "much a country spends on healthcare in response to each outbreak.\n",
        "\n",
        "Goal: Analyse whether higher emergency response spending leads to higher healthcare costs during outbreaks.\n",
        "\n",
        "Relevant columns:\n",
        "\n",
        "    Emergency Response Cost (USD)\n",
        "\n",
        "    Total Healthcare Cost (USD)\n",
        "\n",
        "➡️ Test: Linear Regression\n",
        "\n",
        "✅ Why:\n",
        "\n",
        "- Both Emergency Response Cost (USD) and Total Healthcare Cost (USD) are continuous numeric variables.\n",
        "\n",
        "- A simple linear regression will tell us if there’s a significant positive relationship between emergency response efforts and overall \n",
        "\n",
        "healthcare expenditure per event."
      ]
    },
    {
      "cell_type": "code",
      "execution_count": null,
      "metadata": {},
      "outputs": [
        {
          "name": "stdout",
          "output_type": "stream",
          "text": [
            "Correlation (Contaminant vs Diarrhea): -0.003 (p=0.8869)\n",
            "Correlation (Contaminant vs Cholera): 0.027 (p=0.1390)\n"
          ]
        }
      ],
      "source": [
        "#HYPOTHESIS 1 TEST: PEARSON CORRELATION\n",
        "import pandas as pd\n",
        "from scipy.stats import pearsonr\n",
        "\n",
        "# Step 32. Diarrheal Cases vs Contaminant Level\n",
        "corr1, pval1 = pearsonr(df['Contaminant Level (ppm)'], df['Diarrheal Cases per 100,000 people'])\n",
        "\n",
        "# Step 33. Cholera Cases vs Contaminant Level\n",
        "corr2, pval2 = pearsonr(df['Contaminant Level (ppm)'], df['Cholera Cases per 100,000 people'])\n",
        "\n",
        "print(f\"Correlation (Contaminant vs Diarrhea): {corr1:.3f} (p={pval1:.4f})\")\n",
        "print(f\"Correlation (Contaminant vs Cholera): {corr2:.3f} (p={pval2:.4f})\")\n"
      ]
    },
    {
      "cell_type": "markdown",
      "metadata": {},
      "source": [
        "**Key Results:** \n",
        "\n",
        "Contaminant Level vs Diarrheal Cases:\n",
        "\n",
        "        Correlation coefficient: -0.003\n",
        "\n",
        "        p-value: 0.8869\n",
        "\n",
        "✅ Interpretation: No statistically significant correlation. The relationship is effectively zero.\n",
        "\n",
        "Contaminant Level vs Cholera Cases:\n",
        "\n",
        "        Correlation coefficient: 0.027\n",
        "\n",
        "        p-value: 0.1390\n",
        "\n",
        "✅ Interpretation: Very weak positive correlation, but not statistically significant.\n",
        "\n",
        "**Conclusion:** We fail to reject the null hypothesis. There is no evidence in this dataset that higher contamination levels are \n",
        "\n",
        "associated with more disease outbreaks. The effect size is very small, and both p-values are well above the common threshold of 0.05.\n",
        "\n",
        "\n"
      ]
    },
    {
      "cell_type": "code",
      "execution_count": null,
      "metadata": {},
      "outputs": [
        {
          "name": "stdout",
          "output_type": "stream",
          "text": [
            "                            OLS Regression Results                            \n",
            "==============================================================================\n",
            "Dep. Variable:          Health Burden   R-squared:                       0.000\n",
            "Model:                            OLS   Adj. R-squared:                 -0.001\n",
            "Method:                 Least Squares   F-statistic:                 5.995e-05\n",
            "Date:                Sun, 20 Jul 2025   Prob (F-statistic):               1.00\n",
            "Time:                        19:53:07   Log-Likelihood:                -17108.\n",
            "No. Observations:                3000   AIC:                         3.422e+04\n",
            "Df Residuals:                    2997   BIC:                         3.424e+04\n",
            "Df Model:                           2                                         \n",
            "Covariance Type:            nonrobust                                         \n",
            "===========================================================================================\n",
            "                              coef    std err          t      P>|t|      [0.025      0.975]\n",
            "-------------------------------------------------------------------------------------------\n",
            "const                     136.9796      3.543     38.660      0.000     130.032     143.927\n",
            "Contaminant Level (ppm)     0.0023      0.463      0.005      0.996      -0.906       0.911\n",
            "GDP per Capita (USD)     4.555e-07   4.63e-05      0.010      0.992   -9.04e-05    9.13e-05\n",
            "==============================================================================\n",
            "Omnibus:                     1894.581   Durbin-Watson:                   2.057\n",
            "Prob(Omnibus):                  0.000   Jarque-Bera (JB):              170.281\n",
            "Skew:                           0.015   Prob(JB):                     1.06e-37\n",
            "Kurtosis:                       1.833   Cond. No.                     1.55e+05\n",
            "==============================================================================\n",
            "\n",
            "Notes:\n",
            "[1] Standard Errors assume that the covariance matrix of the errors is correctly specified.\n",
            "[2] The condition number is large, 1.55e+05. This might indicate that there are\n",
            "strong multicollinearity or other numerical problems.\n"
          ]
        }
      ],
      "source": [
        "#HYPOTHESIS 2 TEST: MULTIPLE LINEAR REGRESSION\n",
        "import pandas as pd\n",
        "import statsmodels.api as sm\n",
        "\n",
        "# Step 34. Define independent variables\n",
        "X = df[['Contaminant Level (ppm)', 'GDP per Capita (USD)']]\n",
        "X = sm.add_constant(X)  # Add intercept\n",
        "y = df['Health Burden']  # Average of Cholera + Diarrhea\n",
        "\n",
        "# Step 35. Fit the regression model\n",
        "model = sm.OLS(y, X).fit()\n",
        "\n",
        "print(model.summary())\n"
      ]
    },
    {
      "cell_type": "markdown",
      "metadata": {},
      "source": [
        "**OLS Regression Key results: Health Burden vs. Pollution & GDP**\n",
        "\n",
        "We have ran an Ordinary Least Squares (OLS) regression to examine whether **Contaminant Level (ppm)** and **GDP per Capita (USD)** \n",
        "\n",
        "significantly explain variations in the **Health Burden Index**.\n",
        "\n",
        "- **R² = 0.000**: The model explains virtually none of the variance in health burden.\n",
        "\n",
        "- **p-values** for both predictors:\n",
        "\n",
        "  - `Contaminant Level (ppm)`: 0.996\n",
        "\n",
        "  - `GDP per Capita (USD)`: 0.992  \n",
        "\n",
        "  → Both are **statistically insignificant**, indicating no detectable linear relationship.\n",
        "- **Intercept** is significant and equals ≈137, representing the average health burden when both predictors are zero.\n",
        "\n",
        "Some diagnostic Notes:\n",
        "\n",
        "- **High condition number** (`1.55e+05`) suggests potential multicollinearity or scaling issues.\n",
        "\n",
        "- The **Durbin-Watson statistic** (~2.06) indicates no autocorrelation in residuals.\n",
        "\n",
        "- The **Kurtosis < 3** and a high **Omnibus statistic** imply that the residuals are not normally distributed.\n",
        "\n",
        "✅ **Conclusion:**\n",
        "\n",
        "Neither contaminant level nor GDP per capita serves as a useful linear predictor for health burden in this dataset. The findings align \n",
        "\n",
        "with previous correlation and ML results, reinforcing the idea that other unmeasured factors (e.g., healthcare infrastructure, local \n",
        "\n",
        "sanitation practices, policy interventions) may be more relevant drivers of disease impact.\n"
      ]
    },
    {
      "cell_type": "code",
      "execution_count": null,
      "metadata": {},
      "outputs": [
        {
          "name": "stdout",
          "output_type": "stream",
          "text": [
            "Required columns for Hypothesis 3 not found in dataset.\n"
          ]
        }
      ],
      "source": [
        "#HYPOTHESIS 3 TEST: SIMPLE LINEAR REGRESSION\n",
        "# Step 36.  Check if both columns exist before running\n",
        "if 'Emergency Response Cost (USD)' in df.columns and 'Total Healthcare Cost (USD)' in df.columns:\n",
        "    X_cost = sm.add_constant(df['Emergency Response Cost (USD)'])\n",
        "    y_cost = df['Total Healthcare Cost (USD)']\n",
        "    cost_model = sm.OLS(y_cost, X_cost).fit()\n",
        "\n",
        "    print(cost_model.summary())\n",
        "else:\n",
        "    print(\"Required columns for Hypothesis 3 not found in dataset.\")\n"
      ]
    },
    {
      "cell_type": "markdown",
      "metadata": {},
      "source": [
        "We cannot verify this hypothesis because the dataset lacks sufficient information. To test this hypothesis, we would need:\n",
        "\n",
        "-**Healthcare Expenditure** or **Response Cost** column: This would display the total amount spent or the expenditure per disease outbreak.\n",
        "    \n",
        "-**Disease Outbreak Count** or **Cases per outbreak event** column: To relate cost increases to the severity or frequency of outbreaks\n",
        "\n",
        "Instead, we will reformulate our third hypothesis using the data and information available in our dataset. We can develop a proxy \n",
        "\n",
        "indicator or approximation to investigate the idea.\n",
        "\n",
        "Available Columns:\n",
        "\n",
        " -**GDP per Capita (USD)** → proxy for economic capacity and possible healthcare funding\n",
        "\n",
        " -**Diarrheal Cases per 100,000 people**\n",
        "\n",
        " -**Cholera Cases per 100,000 people**\n",
        "\n",
        "We could merge both into a Health Burden Index column.\n",
        "\n",
        "Although direct response costs are not available in this dataset, we estimate the financial impact of outbreaks by analysing the \n",
        "\n",
        "relationship between disease burden and GDP per capita. This offers an indirect insight into how economically affected a country might be \n",
        "\n",
        "during health emergencies.\n",
        "\n",
        "Why does this work as an approximation? If outbreaks are frequent and severe, they likely correlate with lower GDP per capita in affected \n",
        "\n",
        "countries. While not an actual \"response cost,\" lower GDP may reflect countries with fewer resources to manage outbreaks, suggesting \n",
        "\n",
        "higher strain and indirect costs.\n",
        "\n",
        "Thus, our proposed analysis will involve a correlation or regression between: GDP per Capita and Health Burden Index (mean of disease \n",
        "cases)\n",
        "\n"
      ]
    },
    {
      "cell_type": "markdown",
      "metadata": {},
      "source": [
        "4. Hypothesis 3 (Reformulated):\n",
        "\n",
        "    \"Higher disease burden is associated with lower GDP per capita.\"\n",
        "\n",
        "We will Create a Health Burden Index column and ivsualise the relationship with a scatter plot\n",
        "\n",
        "  ➡️  Test: Pearson correlation test\n",
        "  ✅ why? Because we are using: \n",
        "\n",
        "     Variable 1: GDP per Capita (continuous numeric)\n",
        "\n",
        "     Variable 2: Health Burden Index (continuous numeric, constructed from disease case rates)\n",
        "\n",
        "Since both are quantitative, we will be able to respond if there is  a linear trend between them and if higher GDP values correlate with \n",
        "\n",
        "lower disease burdens.\n",
        "\n",
        "The Pearson test shows the Correlation coefficient (r) which is ranged between -1 (strong negative)\n",
        "\n",
        "to +1 (strong positive). Thus, near 0 means no linear relationship. Also the p-value will indicate statistical significance if p < 0.05.\n",
        "\n",
        "\n",
        "\n",
        "    "
      ]
    },
    {
      "cell_type": "code",
      "execution_count": null,
      "metadata": {},
      "outputs": [
        {
          "name": "stdout",
          "output_type": "stream",
          "text": [
            "Correlation between GDP per Capita and Health Burden Index: 0.000 (p = 0.9922)\n"
          ]
        },
        {
          "data": {
            "image/png": "[encoded data removed]",
            "text/plain": [
              "<Figure size 1000x600 with 1 Axes>"
            ]
          },
          "metadata": {},
          "output_type": "display_data"
        }
      ],
      "source": [
        "#HYPOTHESIS 3 TEST (REFORMULATED): PEARSON CORRELATION\n",
        "import pandas as pd\n",
        "import seaborn as sns\n",
        "import matplotlib.pyplot as plt\n",
        "from scipy.stats import pearsonr\n",
        "\n",
        "# Load your cleaned dataset\n",
        "df = pd.read_csv(\"input_data/cleaned_water_pollution_disease.csv\")\n",
        "\n",
        "#Step 37. Create Health Burden Index\n",
        "df['Health Burden Index'] = df[\n",
        "    ['Diarrheal Cases per 100,000 people', 'Cholera Cases per 100,000 people']\n",
        "].mean(axis=1)\n",
        "\n",
        "# Step 38. Drop missing values for relevant columns\n",
        "subset = df[['GDP per Capita (USD)', 'Health Burden Index']].dropna()\n",
        "\n",
        "# Step 39. Calculate Pearson correlation\n",
        "corr, p_val = pearsonr(subset['GDP per Capita (USD)'], subset['Health Burden Index'])\n",
        "\n",
        "print(f\"Correlation between GDP per Capita and Health Burden Index: {corr:.3f} (p = {p_val:.4f})\")\n",
        "\n",
        "# Step 40. Scatter plot\n",
        "plt.figure(figsize=(10, 6))\n",
        "sns.regplot(\n",
        "    x='GDP per Capita (USD)',\n",
        "    y='Health Burden Index',\n",
        "    data=subset,\n",
        "    scatter_kws={'alpha':0.6},\n",
        "    line_kws={'color':'red'}\n",
        ")\n",
        "plt.title(\"Relationship Between GDP per Capita and Health Burden Index\")\n",
        "plt.xlabel(\"GDP per Capita (USD)\")\n",
        "plt.ylabel(\"Health Burden Index (Cases per 100,000)\")\n",
        "plt.grid(True)\n",
        "plt.tight_layout()\n",
        "plt.show()\n"
      ]
    },
    {
      "cell_type": "markdown",
      "metadata": {},
      "source": [
        "The correlation of 0.000 indicates no linear relationship between GDP per Capita and Health Burden Index.\n",
        "\n",
        "The very high p-value (> 0.05) shows this result is not statistically significant — any observed pattern is likely due to chance."
      ]
    },
    {
      "cell_type": "markdown",
      "metadata": {},
      "source": [
        "There is no evidence to support Hypothesis 3. In this dataset, countries with higher GDP per capita do not have significantly lower \n",
        "\n",
        "health burdens related to waterborne diseases.\n",
        "\n",
        "This might suggest:\n",
        "\n",
        "    -Other confounding factors (e.g. sanitation, governance, infrastructure)\n",
        "\n",
        "    -A non-linear relationship not captured by Pearson\n",
        "\n",
        "    -Data limitations (e.g. GDP averaged over multiple years, aggregated health data)\n",
        "\n",
        "\n",
        "In the chart each dot represents a country or observation in the dataset, the red trend line is a linear regression line showing the \n",
        "\n",
        "general direction (or lack thereof) in the relationship. Despite the wide distribution of points, the regression line is nearly flat, \n",
        "\n",
        "indicating no linear relationship between GDP per capita and health burden.\n",
        "\n",
        "This is confirmed by the Pearson correlation coefficient of 0.000 and a p-value of 0.9922.\n",
        "\n",
        "✅Conclusion: This result challenges the assumption that wealthier countries always experience fewer health impacts from water \n",
        "\n",
        "contamination, possibly due to underreporting, local inequalities, or differing health infrastructure responses."
      ]
    },
    {
      "cell_type": "markdown",
      "metadata": {},
      "source": [
        "## Economic impact estimation. Predicting the Health Burden Index. Machine Learning\n",
        "\n",
        "We have already established that:\n",
        "\n",
        "- Pollution is linked to disease (even if weakly),\n",
        "\n",
        "- Disease leads to a health burden (quantified as cases per 100,000 people),\n",
        "\n",
        "❓ Now the missing piece is: \"What is the economic cost?\", \"What is the Health burden?\". Here is where Machine Learning or regression \n",
        "\n",
        "modelling can help estimate costs  on patterns in our data to predict the financial cost (e.g., healthcare expenditure, GDP loss, or \n",
        "\n",
        "response cost) of disease outbreaks related to water pollution or the health burden.\n"
      ]
    },
    {
      "cell_type": "markdown",
      "metadata": {},
      "source": [
        "**Machine Learning for Estimating Health and Economic Impact**\n",
        "\n",
        "We will apply Machine Learning (ML) to explore how environmental and socioeconomic data can help us anticipate both the health and \n",
        "\n",
        "economic consequences of water pollution.\n",
        "\n",
        "We have chosen the **Random Forest Regressor**, a interpretable ensemble method that works well with complex, non-linear \n",
        "\n",
        "datasets and does not assume any specific distribution of the input data. It will also provide feature importance, allowing us to \n",
        "\n",
        "understand which variables will contribute most to the predictions. Highlight real-world features affecting cost. Across all variables, \n",
        "\n",
        "contaminant level was the most predictive of cost\n",
        "\n",
        "We will build two regression models using Random Forest:\n",
        "\n",
        "✅ Option 1: Predicting the Economic Cost per Outbreak\n",
        "\n",
        "    Target variable: Estimated Cost per Outbreak (we will generate it, it will be explained below*)\n",
        "\n",
        "    Features: Pollution levels, health indicators, GDP\n",
        "\n",
        "    Goal: Forecast potential financial impact of disease outbreaks tied to environmental conditions.\n",
        "\n",
        "✅ Option 2: Predicting the Health Burden Index\n",
        "\n",
        "    Target variable: Health Burden Index\n",
        "\n",
        "    Features: Contaminant levels, water treatment, GDP\n",
        "\n",
        "    Goal: Identify regions at high risk of water-related disease burdens for early intervention.\n",
        "\n",
        "Using both models allows us to see where prevention is needed most, and how much inaction could cost.\n",
        "\n",
        "🧠*To generate the **Estimated Cost per Outbreak** variable (which doesn’t exist in the dataset), we will engineer it based on available \n",
        "\n",
        "indicators and realistic assumptions. \n",
        "\n",
        "We will create a synthetic variable using the following logic:\n",
        "\n",
        "✅ Formula (Option 1 - Simple Model):\n",
        "\n",
        "Estimated Cost per Outbreak=(Diarrheal Cases per 100,000+Cholera Cases per 100,000)×Unit Cost per Case\n",
        "\n",
        "Estimated Cost per Outbreak=(Diarrheal Cases per 100,000+Cholera Cases per 100,000)×Unit Cost per Case\n",
        " \n",
        " Assumptions:\n",
        "\n",
        "    Unit Cost per Case = €150 (based on WHO estimates for treatment of waterborne illnesses in low-to-mid income countries).\n",
        "\n",
        "    This will give us an approximate public health cost per 100,000 people per region.\n",
        "\n",
        " Why This Is Valid:\n",
        "\n",
        "    While not real economic data, this proxy:\n",
        "\n",
        "        Reflects relative financial burden across regions.\n",
        "\n",
        "        Is grounded in realistic per-case treatment estimates.\n",
        "\n",
        "        Enables comparative and predictive analysis using machine learning.\n",
        "\n",
        "\n",
        "\n",
        "\n"
      ]
    },
    {
      "cell_type": "markdown",
      "metadata": {},
      "source": [
        "**Step 1: Generate Estimated Cost per Outbreak**\n"
      ]
    },
    {
      "cell_type": "code",
      "execution_count": null,
      "metadata": {},
      "outputs": [
        {
          "data": {
            "text/html": [
              "<div>\n",
              "<style scoped>\n",
              "    .dataframe tbody tr th:only-of-type {\n",
              "        vertical-align: middle;\n",
              "    }\n",
              "\n",
              "    .dataframe tbody tr th {\n",
              "        vertical-align: top;\n",
              "    }\n",
              "\n",
              "    .dataframe thead th {\n",
              "        text-align: right;\n",
              "    }\n",
              "</style>\n",
              "<table border=\"1\" class=\"dataframe\">\n",
              "  <thead>\n",
              "    <tr style=\"text-align: right;\">\n",
              "      <th></th>\n",
              "      <th>Country</th>\n",
              "      <th>Diarrheal Cases per 100,000 people</th>\n",
              "      <th>Cholera Cases per 100,000 people</th>\n",
              "      <th>Estimated Cost per Outbreak (€)</th>\n",
              "    </tr>\n",
              "  </thead>\n",
              "  <tbody>\n",
              "    <tr>\n",
              "      <th>0</th>\n",
              "      <td>Mexico</td>\n",
              "      <td>472</td>\n",
              "      <td>33</td>\n",
              "      <td>75750</td>\n",
              "    </tr>\n",
              "    <tr>\n",
              "      <th>1</th>\n",
              "      <td>Brazil</td>\n",
              "      <td>122</td>\n",
              "      <td>27</td>\n",
              "      <td>22350</td>\n",
              "    </tr>\n",
              "    <tr>\n",
              "      <th>2</th>\n",
              "      <td>Indonesia</td>\n",
              "      <td>274</td>\n",
              "      <td>39</td>\n",
              "      <td>46950</td>\n",
              "    </tr>\n",
              "    <tr>\n",
              "      <th>3</th>\n",
              "      <td>Nigeria</td>\n",
              "      <td>3</td>\n",
              "      <td>33</td>\n",
              "      <td>5400</td>\n",
              "    </tr>\n",
              "    <tr>\n",
              "      <th>4</th>\n",
              "      <td>Mexico</td>\n",
              "      <td>466</td>\n",
              "      <td>31</td>\n",
              "      <td>74550</td>\n",
              "    </tr>\n",
              "  </tbody>\n",
              "</table>\n",
              "</div>"
            ],
            "text/plain": [
              "     Country  Diarrheal Cases per 100,000 people  \\\n",
              "0     Mexico                                 472   \n",
              "1     Brazil                                 122   \n",
              "2  Indonesia                                 274   \n",
              "3    Nigeria                                   3   \n",
              "4     Mexico                                 466   \n",
              "\n",
              "   Cholera Cases per 100,000 people  Estimated Cost per Outbreak (€)  \n",
              "0                                33                            75750  \n",
              "1                                27                            22350  \n",
              "2                                39                            46950  \n",
              "3                                33                             5400  \n",
              "4                                31                            74550  "
            ]
          },
          "execution_count": 20,
          "metadata": {},
          "output_type": "execute_result"
        }
      ],
      "source": [
        "# Step 41. Create Estimated Cost per Outbreak (proxy economic impact)\n",
        "unit_cost_per_case = 150  # in euros\n",
        "\n",
        "df['Estimated Cost per Outbreak (€)'] = (\n",
        "    df['Diarrheal Cases per 100,000 people'].fillna(0) +\n",
        "    df['Cholera Cases per 100,000 people'].fillna(0)\n",
        ") * unit_cost_per_case\n",
        "\n",
        "# Step 42. Preview\n",
        "df[['Country', 'Diarrheal Cases per 100,000 people', 'Cholera Cases per 100,000 people', 'Estimated Cost per Outbreak (€)']].head()\n"
      ]
    },
    {
      "cell_type": "markdown",
      "metadata": {},
      "source": [
        "**Step 2: Import ML Libraries**"
      ]
    },
    {
      "cell_type": "code",
      "execution_count": null,
      "metadata": {},
      "outputs": [],
      "source": [
        "#Step 43. Import necessary libraries for machine learning\n",
        "from sklearn.model_selection import train_test_split\n",
        "from sklearn.ensemble import RandomForestRegressor\n",
        "from sklearn.metrics import mean_absolute_error, r2_score\n",
        "import matplotlib.pyplot as plt\n",
        "import seaborn as sns\n"
      ]
    },
    {
      "cell_type": "markdown",
      "metadata": {},
      "source": [
        "**Step 3: Prepare Features & Targets**\n",
        "\n",
        "Option 1: Predicting Economic Cost"
      ]
    },
    {
      "cell_type": "code",
      "execution_count": null,
      "metadata": {},
      "outputs": [],
      "source": [
        "# Step 44. Features\n",
        "features_cost = df[[\n",
        "    'Contaminant Level (ppm)',\n",
        "    'Lead Concentration (µg/L)',\n",
        "    'Nitrate Level (mg/L)',\n",
        "    'pH Level',\n",
        "]].fillna(0)\n",
        "\n",
        "# Step 45. Target\n",
        "target_cost = df['Estimated Cost per Outbreak (€)']\n"
      ]
    },
    {
      "cell_type": "markdown",
      "metadata": {},
      "source": [
        "Option 2: Predicting Health Burden"
      ]
    },
    {
      "cell_type": "code",
      "execution_count": null,
      "metadata": {},
      "outputs": [],
      "source": [
        "# Step 46. Features (same)\n",
        "features_health = features_cost.copy()\n",
        "\n",
        "# Step 47. Target\n",
        "df['Health Burden Index'] = df[\n",
        "    ['Diarrheal Cases per 100,000 people', 'Cholera Cases per 100,000 people']\n",
        "].mean(axis=1)\n",
        "\n",
        "target_health = df['Health Burden Index']\n",
        "\n"
      ]
    },
    {
      "cell_type": "markdown",
      "metadata": {},
      "source": [
        "**Step 4: Train & Evaluate Models**"
      ]
    },
    {
      "cell_type": "markdown",
      "metadata": {},
      "source": [
        "4a. Define Training Function"
      ]
    },
    {
      "cell_type": "code",
      "execution_count": null,
      "metadata": {},
      "outputs": [
        {
          "name": "stdout",
          "output_type": "stream",
          "text": [
            "🔍 Economic Cost per Outbreak (€) — Model Performance\n",
            "Mean Absolute Error: 19763.35\n",
            "R² Score: -0.09\n"
          ]
        },
        {
          "data": {
            "image/png": "[encoded data removed]",
            "text/plain": [
              "<Figure size 800x500 with 1 Axes>"
            ]
          },
          "metadata": {},
          "output_type": "display_data"
        },
        {
          "name": "stdout",
          "output_type": "stream",
          "text": [
            "🔍 Health Burden Index — Model Performance\n",
            "Mean Absolute Error: 65.88\n",
            "R² Score: -0.09\n"
          ]
        },
        {
          "data": {
            "image/png": "[encoded data removed]",
            "text/plain": [
              "<Figure size 800x500 with 1 Axes>"
            ]
          },
          "metadata": {},
          "output_type": "display_data"
        }
      ],
      "source": [
        "from sklearn.ensemble import RandomForestRegressor\n",
        "from sklearn.model_selection import train_test_split\n",
        "from sklearn.metrics import mean_absolute_error, r2_score\n",
        "import matplotlib.pyplot as plt\n",
        "import pandas as pd\n",
        "\n",
        "# Step 48. Define reusable function\n",
        "def train_rf_model(X, y, label):\n",
        "    # Step 49. Split data\n",
        "    X_train, X_test, y_train, y_test = train_test_split(X, y, test_size=0.2, random_state=42)\n",
        "\n",
        "    # Step 50. Train model\n",
        "    rf = RandomForestRegressor(random_state=42)\n",
        "    rf.fit(X_train, y_train)\n",
        "\n",
        "    # Step 51. Predict\n",
        "    y_pred = rf.predict(X_test)\n",
        "\n",
        "    # Step 52. Evaluate\n",
        "    print(f\"🔍 {label} — Model Performance\")\n",
        "    print(f\"Mean Absolute Error: {mean_absolute_error(y_test, y_pred):.2f}\")\n",
        "    print(f\"R² Score: {r2_score(y_test, y_pred):.2f}\")\n",
        "\n",
        "    # Step 53. Plot feature importance with custom colours\n",
        "    colours = ['#1f77b4', '#ff7f0e', '#2ca02c', '#d62728', '#9467bd', '#8c564b'][:len(X.columns)]\n",
        "    importances = pd.Series(rf.feature_importances_, index=X.columns)\n",
        "    importances.sort_values().plot(\n",
        "        kind='barh',\n",
        "        figsize=(8, 5),\n",
        "        title=f\"{label} – Feature Importance\",\n",
        "        color=colours\n",
        "    )\n",
        "    plt.tight_layout()\n",
        "    plt.show()\n",
        "\n",
        "# Step 54. Run both models\n",
        "train_rf_model(features_cost, target_cost, \"Economic Cost per Outbreak (€)\")\n",
        "train_rf_model(features_health, target_health, \"Health Burden Index\")\n"
      ]
    },
    {
      "cell_type": "markdown",
      "metadata": {},
      "source": [
        "**Economic Cost per Outbreak Model**\n",
        "\n",
        "We trained a Random Forest Regressor to predict the Estimated Cost per Outbreak (€) based on water quality features. Below are the model results and interpretation:\n",
        "\n",
        "**Model Performance:**\n",
        "\n",
        "- Mean Absolute Error (MAE): €19,763.35. On average, the model's predictions differ from actual values by ~€19.7K.\n",
        "\n",
        "- R² Score: -0.09. A negative R² suggests that the model is currently underperforming — it does not explain the variance in the target v\n",
        "\n",
        "variable effectively. This might be due to:\n",
        "\n",
        "        -Missing influential features (e.g., healthcare access, government response)\n",
        "\n",
        "        -High variability in cost drivers not captured in the dataset\n",
        "\n",
        "**Feature importance:**\n",
        "\n",
        "The most influential predictors of outbreak cost were:\n",
        "\n",
        "        ✅ Nitrate Level (mg/L)\n",
        "\n",
        "        ✅ Contaminant Level (ppm)\n",
        "\n",
        "        ⚠️ pH Level was the least impactful, but still contributed.\n",
        "\n",
        "Different colours were used to clearly differentiate the features on the horizontal bar chart.\n"
      ]
    },
    {
      "cell_type": "markdown",
      "metadata": {},
      "source": [
        "**Health Burden Index Model**\n",
        "\n",
        "We have trained a Random Forest Regressor to predict the Health Burden Index (average of Diarrheal and Cholera cases per 100,000 people) using water pollution metrics.\n",
        "\n",
        "**Model Performance:**\n",
        "\n",
        "- Mean Absolute Error (MAE): 65.88. The model’s predictions differ from actual health burden values by ~66 cases on average.\n",
        "\n",
        "- R² Score: -0.09. Similar to the economic model, the negative R² indicates that the model fails to explain the variance in the health \n",
        "\n",
        "burden, likely due to:\n",
        "\n",
        "        Absence of key health determinants (e.g., sanitation infrastructure, immunisation coverage)\n",
        "\n",
        "        Random noise or under-represented features in the dataset\n",
        "\n",
        "**Feature Importance:**\n",
        "\n",
        "- Top contributing features to predicting health burden:\n",
        "\n",
        "        ✅ Nitrate Level (mg/L) and Contaminant Level (ppm)\n",
        "\n",
        "        ⚠️ pH Level once again showed the least influence\n",
        "\n",
        "   Again, the feature importance chart uses distinctive colours to clearly communicate each variable’s contribution.\n",
        "\n",
        "\n",
        "**Conclusion:**\n",
        "\n",
        "While both models struggle with predictive accuracy (R² < 0), the consistent importance of specific pollutants suggests a measurable, \n",
        "\n",
        "though complex, link between water quality and health/economic outcomes.\n",
        "\n",
        "Despite the low R² scores indicating poor predictive power, these results still provide important directional insight:\n",
        "\n",
        "🔬 Water pollutants like Nitrate and Contaminant Level consistently emerged as key drivers in both models.\n",
        "\n",
        "📉 pH Level had the lowest predictive influence, suggesting it may be less relevant for estimating outbreak cost or disease burden.\n",
        "\n",
        "🚫 The models’ low explanatory power is likely due to missing features such as:\n",
        "\n",
        "       a) Healthcare access\n",
        "\n",
        "       b) Local sanitation practices\n",
        "\n",
        "       c) Policy response time\n",
        "\n",
        "       d) Climate and geographical differences\n",
        "\n",
        " Our Recommendation to improve model accuracy is to consider:\n",
        "\n",
        "    1. Collecting or engineering new features (e.g., hospitalisation rates, public health spending)\n",
        "\n",
        "    2. Stratifying the data by region or income level\n",
        "\n",
        "    3. Testing other algorithms (e.g., XGBoost or Linear Regression for interpretability)"
      ]
    },
    {
      "cell_type": "markdown",
      "metadata": {},
      "source": [
        "## Summary of Insights\n",
        "\n",
        "This project have explored the relationship between water pollution, disease outbreaks, and economic burden using a combination of data \n",
        "\n",
        "analysis, visualisations, hypothesis testing, and machine learning.\n",
        "\n",
        "### Key Findings:\n",
        "\n",
        "- **Data Cleaning & Transformation** revealed key inconsistencies such as missing treatment method data and biologically implausible pH v\n",
        "\n",
        "values, which were addressed before analysis.\n",
        "\n",
        "- **Visual Explorations** using matplotlib, seaborn, and plotly revealed disparities in contaminant levels by water source and geographic \n",
        "\n",
        "variations in health burden.\n",
        "\n",
        "- **Choropleth Mapping** demonstrated spatial patterns in both pollution and disease burden, with dual-layer maps adding an extra \n",
        "\n",
        "dimension to visualise co-occurrence and intensity.\n",
        "\n",
        "- **Hypothesis Testing** using Pearson correlation showed:\n",
        "\n",
        "  - No significant linear relationship between pollution levels and disease outbreak rates.\n",
        "\n",
        "  - No significant relationship between GDP per capita and health burden, suggesting other factors may play a larger role in healthcare \n",
        "  \n",
        "  outcomes.\n",
        "\n",
        "- **Economic Impact Estimation**:\n",
        "\n",
        "  - Machine Learning (Random Forest Regressor) was used to estimate outbreak costs and health burden based on pollution indicators.\n",
        "\n",
        "  - Both models produced low R² scores (~ -0.09), indicating that the available features were insufficient for accurate predictions.\n",
        "\n",
        "### Conclusion:\n",
        "\n",
        "Although predictive performance was limited, the project successfully established a foundational framework for understanding how water \n",
        "\n",
        "quality metrics can relate to public health and economic outcomes. Future iterations should incorporate more detailed temporal, \n",
        "\n",
        "infrastructural, and healthcare access data to improve model accuracy and policy relevance.\n"
      ]
    }
  ],
  "metadata": {
    "accelerator": "GPU",
    "colab": {
      "name": "Data Practitioner Jupyter Notebook.ipynb",
      "provenance": [],
      "toc_visible": true
    },
    "kernelspec": {
      "display_name": "Python (venv)",
      "language": "python",
      "name": "venv"
    },
    "language_info": {
      "codemirror_mode": {
        "name": "ipython",
        "version": 3
      },
      "file_extension": ".py",
      "mimetype": "text/x-python",
      "name": "python",
      "nbconvert_exporter": "python",
      "pygments_lexer": "ipython3",
      "version": "3.12.8"
    },
    "orig_nbformat": 2
  },
  "nbformat": 4,
  "nbformat_minor": 2
}
